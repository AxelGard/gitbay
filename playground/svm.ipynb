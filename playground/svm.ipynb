{
 "cells": [
  {
   "cell_type": "code",
   "execution_count": 1,
   "metadata": {},
   "outputs": [],
   "source": [
    "from os import listdir\n",
    "from os.path import isfile, join\n",
    "\n",
    "def load_data():\n",
    "    PATH = \"../data/\"\n",
    "    contents = []\n",
    "    files = [f\"{PATH}{f}\" for f in listdir(PATH) if isfile(join(PATH, f))]\n",
    "    for file_path in files: \n",
    "        with open(file_path, \"r\") as f:\n",
    "            contents.append(f.read())\n",
    "    return files, contents\n",
    "\n",
    "import nltk\n",
    "\n",
    "\n",
    "def load_stop_words(path:str=\"../stopwords.txt\"):\n",
    "   words = []\n",
    "   with open(path, \"r\") as f: \n",
    "      words = f.read().split(\"\\n\")\n",
    "   assert len(words) != 0, \"no stop words were found\"\n",
    "   return words\n",
    "\n",
    "def clean(content:list):\n",
    "    ascii_char = [chr(i) for i in range(0,255)]\n",
    "    numbers = \"0123456789\"\n",
    "    non_acc_char =  \"\\n,.()[]{}`/:-_*=\\\\<>|&%@?!\\\"\\'#\" + numbers\n",
    "    non_acc_tokens = [\"https\",\"www\", \"com\", \"org\", \"license\"]\n",
    "    stop_words = load_stop_words()\n",
    "    for i, _ in enumerate(content):\n",
    "        for c in non_acc_char:\n",
    "            content[i] = content[i].replace(c, \" \")\n",
    "        content[i] = content[i].split(\" \")\n",
    "        content[i] = list(filter(lambda c: c != \"\", content[i]))\n",
    "        content[i] = [t for t in content[i] if not t in non_acc_tokens ] \n",
    "        content[i] = [s.lower() for s in content[i] if all(c in ascii_char for c in s)]\n",
    "        content[i] = [t for t in content[i] if not t in stop_words] \n",
    "        ps = nltk.stem.PorterStemmer()\n",
    "        content[i] = [ps.stem(t) for t in content[i]] \n",
    "\n",
    "\n",
    "    return [\" \".join(con) for con in content]"
   ]
  },
  {
   "cell_type": "code",
   "execution_count": 2,
   "metadata": {},
   "outputs": [],
   "source": [
    "\n",
    "files, contents = load_data()\n",
    "contents = clean(contents)"
   ]
  },
  {
   "cell_type": "code",
   "execution_count": 3,
   "metadata": {},
   "outputs": [],
   "source": [
    "import requests\n",
    "import re\n",
    "def get_topics_gh():\n",
    "    _topics = {}\n",
    "    for file in files: \n",
    "        name = re.search(r'([^\\/]+)(?=_[A-Za-z]+\\.[A-Za-z]+)', file).group(1)\n",
    "        r = requests.get(f\"https://api.github.com/search/repositories?q={name}\")\n",
    "        resp = r.json()\n",
    "        try:\n",
    "            repo_topics = resp[\"items\"][0][\"topics\"]\n",
    "        except:\n",
    "            print(file)\n",
    "            _topics[file] = [\"NONE\"]\n",
    "            continue\n",
    "        _topics[file] = set()\n",
    "        for topic in repo_topics:\n",
    "            _topics[file].add(topic)\n",
    "            for sub in topic.split(\"-\"):\n",
    "                _topics[file].add(sub)\n",
    "        _topics[file] = list(_topics[file])"
   ]
  },
  {
   "cell_type": "code",
   "execution_count": 4,
   "metadata": {},
   "outputs": [
    {
     "data": {
      "text/plain": [
       "['javascript',\n",
       " 'machinelearning',\n",
       " 'javascript',\n",
       " 'javascript',\n",
       " 'compiler',\n",
       " 'operatingsystem',\n",
       " 'pythoninterpreter',\n",
       " 'deeplearning',\n",
       " 'systemsprogramming',\n",
       " 'trading']"
      ]
     },
     "execution_count": 4,
     "metadata": {},
     "output_type": "execute_result"
    }
   ],
   "source": [
    "topics = {\n",
    "    \"../data/svelte_README.md\": \"JavaScript\",\n",
    "    \"../data/tensorflow_README.md\": \"Machine Learning\",\n",
    "    \"../data/react_README.md\": \"JavaScript\",\n",
    "    \"../data/vuejs_README.md\": \"JavaScript\",\n",
    "    \"../data/gcc_README.txt\": \"Compiler\",\n",
    "    \"../data/linux_README.txt\": \"Operating System\",\n",
    "    \"../data/cpython_README.rst\": \"Python Interpreter\",\n",
    "    \"../data/pytorch_README.md\": \"Deep Learning\",\n",
    "    \"../data/rust_README.md\": \"Systems Programming\",\n",
    "    \"../data/cira_README.md\": \"Trading\",\n",
    "}\n",
    "\n",
    "topics = [t.replace(\" \", \"\").lower() for t in topics.values()]\n",
    "topics"
   ]
  },
  {
   "cell_type": "code",
   "execution_count": null,
   "metadata": {},
   "outputs": [],
   "source": []
  },
  {
   "cell_type": "code",
   "execution_count": 5,
   "metadata": {},
   "outputs": [],
   "source": [
    "from sklearn.feature_extraction.text import TfidfVectorizer\n",
    "from sklearn.svm import SVC"
   ]
  },
  {
   "cell_type": "code",
   "execution_count": 6,
   "metadata": {},
   "outputs": [],
   "source": [
    "vectorizer = TfidfVectorizer()\n",
    "mat = vectorizer.fit_transform(contents)"
   ]
  },
  {
   "cell_type": "code",
   "execution_count": 7,
   "metadata": {},
   "outputs": [
    {
     "data": {
      "text/html": [
       "<style>#sk-container-id-1 {color: black;background-color: white;}#sk-container-id-1 pre{padding: 0;}#sk-container-id-1 div.sk-toggleable {background-color: white;}#sk-container-id-1 label.sk-toggleable__label {cursor: pointer;display: block;width: 100%;margin-bottom: 0;padding: 0.3em;box-sizing: border-box;text-align: center;}#sk-container-id-1 label.sk-toggleable__label-arrow:before {content: \"▸\";float: left;margin-right: 0.25em;color: #696969;}#sk-container-id-1 label.sk-toggleable__label-arrow:hover:before {color: black;}#sk-container-id-1 div.sk-estimator:hover label.sk-toggleable__label-arrow:before {color: black;}#sk-container-id-1 div.sk-toggleable__content {max-height: 0;max-width: 0;overflow: hidden;text-align: left;background-color: #f0f8ff;}#sk-container-id-1 div.sk-toggleable__content pre {margin: 0.2em;color: black;border-radius: 0.25em;background-color: #f0f8ff;}#sk-container-id-1 input.sk-toggleable__control:checked~div.sk-toggleable__content {max-height: 200px;max-width: 100%;overflow: auto;}#sk-container-id-1 input.sk-toggleable__control:checked~label.sk-toggleable__label-arrow:before {content: \"▾\";}#sk-container-id-1 div.sk-estimator input.sk-toggleable__control:checked~label.sk-toggleable__label {background-color: #d4ebff;}#sk-container-id-1 div.sk-label input.sk-toggleable__control:checked~label.sk-toggleable__label {background-color: #d4ebff;}#sk-container-id-1 input.sk-hidden--visually {border: 0;clip: rect(1px 1px 1px 1px);clip: rect(1px, 1px, 1px, 1px);height: 1px;margin: -1px;overflow: hidden;padding: 0;position: absolute;width: 1px;}#sk-container-id-1 div.sk-estimator {font-family: monospace;background-color: #f0f8ff;border: 1px dotted black;border-radius: 0.25em;box-sizing: border-box;margin-bottom: 0.5em;}#sk-container-id-1 div.sk-estimator:hover {background-color: #d4ebff;}#sk-container-id-1 div.sk-parallel-item::after {content: \"\";width: 100%;border-bottom: 1px solid gray;flex-grow: 1;}#sk-container-id-1 div.sk-label:hover label.sk-toggleable__label {background-color: #d4ebff;}#sk-container-id-1 div.sk-serial::before {content: \"\";position: absolute;border-left: 1px solid gray;box-sizing: border-box;top: 0;bottom: 0;left: 50%;z-index: 0;}#sk-container-id-1 div.sk-serial {display: flex;flex-direction: column;align-items: center;background-color: white;padding-right: 0.2em;padding-left: 0.2em;position: relative;}#sk-container-id-1 div.sk-item {position: relative;z-index: 1;}#sk-container-id-1 div.sk-parallel {display: flex;align-items: stretch;justify-content: center;background-color: white;position: relative;}#sk-container-id-1 div.sk-item::before, #sk-container-id-1 div.sk-parallel-item::before {content: \"\";position: absolute;border-left: 1px solid gray;box-sizing: border-box;top: 0;bottom: 0;left: 50%;z-index: -1;}#sk-container-id-1 div.sk-parallel-item {display: flex;flex-direction: column;z-index: 1;position: relative;background-color: white;}#sk-container-id-1 div.sk-parallel-item:first-child::after {align-self: flex-end;width: 50%;}#sk-container-id-1 div.sk-parallel-item:last-child::after {align-self: flex-start;width: 50%;}#sk-container-id-1 div.sk-parallel-item:only-child::after {width: 0;}#sk-container-id-1 div.sk-dashed-wrapped {border: 1px dashed gray;margin: 0 0.4em 0.5em 0.4em;box-sizing: border-box;padding-bottom: 0.4em;background-color: white;}#sk-container-id-1 div.sk-label label {font-family: monospace;font-weight: bold;display: inline-block;line-height: 1.2em;}#sk-container-id-1 div.sk-label-container {text-align: center;}#sk-container-id-1 div.sk-container {/* jupyter's `normalize.less` sets `[hidden] { display: none; }` but bootstrap.min.css set `[hidden] { display: none !important; }` so we also need the `!important` here to be able to override the default hidden behavior on the sphinx rendered scikit-learn.org. See: https://github.com/scikit-learn/scikit-learn/issues/21755 */display: inline-block !important;position: relative;}#sk-container-id-1 div.sk-text-repr-fallback {display: none;}</style><div id=\"sk-container-id-1\" class=\"sk-top-container\"><div class=\"sk-text-repr-fallback\"><pre>SVC(kernel=&#x27;linear&#x27;, probability=True)</pre><b>In a Jupyter environment, please rerun this cell to show the HTML representation or trust the notebook. <br />On GitHub, the HTML representation is unable to render, please try loading this page with nbviewer.org.</b></div><div class=\"sk-container\" hidden><div class=\"sk-item\"><div class=\"sk-estimator sk-toggleable\"><input class=\"sk-toggleable__control sk-hidden--visually\" id=\"sk-estimator-id-1\" type=\"checkbox\" checked><label for=\"sk-estimator-id-1\" class=\"sk-toggleable__label sk-toggleable__label-arrow\">SVC</label><div class=\"sk-toggleable__content\"><pre>SVC(kernel=&#x27;linear&#x27;, probability=True)</pre></div></div></div></div></div>"
      ],
      "text/plain": [
       "SVC(kernel='linear', probability=True)"
      ]
     },
     "execution_count": 7,
     "metadata": {},
     "output_type": "execute_result"
    }
   ],
   "source": [
    "model = SVC(probability=True,kernel=\"linear\", C=1.0)\n",
    "model.fit(mat, files)"
   ]
  },
  {
   "cell_type": "code",
   "execution_count": 46,
   "metadata": {},
   "outputs": [
    {
     "name": "stdout",
     "output_type": "stream",
     "text": [
      "java script\n",
      "[0.10052007 0.09965676 0.10055288 0.10062102 0.10032692 0.09900482\n",
      " 0.09793657 0.10040647 0.1004584  0.10051609]\n",
      "[(0.10062101936636254, '../data/vuejs_README.md'), (0.10055287623784966, '../data/react_README.md'), (0.10052006971057065, '../data/svelte_README.md'), (0.10051609343476169, '../data/cira_README.md')]\n"
     ]
    },
    {
     "data": {
      "text/plain": [
       "['../data/vuejs_README.md',\n",
       " '../data/react_README.md',\n",
       " '../data/svelte_README.md',\n",
       " '../data/cira_README.md']"
      ]
     },
     "execution_count": 46,
     "metadata": {},
     "output_type": "execute_result"
    }
   ],
   "source": [
    "query = \"java script\"\n",
    "_min = 0.1005\n",
    "query = clean([query])[0]\n",
    "print(query)\n",
    "q_vec = vectorizer.transform([query])\n",
    "\n",
    "prob_of_file = model.predict_proba(q_vec)[0]\n",
    "\n",
    "print(prob_of_file)\n",
    "res = [(prob,files[idx]) for idx, prob in enumerate(prob_of_file) if  prob > _min]\n",
    "res.sort()\n",
    "res.reverse()\n",
    "print(res)\n",
    "res = [f for _, f in res]\n",
    "res"
   ]
  },
  {
   "cell_type": "code",
   "execution_count": 41,
   "metadata": {},
   "outputs": [
    {
     "data": {
      "text/plain": [
       "'../data/cira_README.md'"
      ]
     },
     "execution_count": 41,
     "metadata": {},
     "output_type": "execute_result"
    }
   ],
   "source": [
    "model.predict(q_vec)[0]"
   ]
  },
  {
   "cell_type": "code",
   "execution_count": 47,
   "metadata": {},
   "outputs": [
    {
     "data": {
      "text/plain": [
       "['../data/svelte_README.md',\n",
       " '../data/tensorflow_README.md',\n",
       " '../data/react_README.md',\n",
       " '../data/vuejs_README.md',\n",
       " '../data/gcc_README.txt',\n",
       " '../data/linux_README.txt',\n",
       " '../data/cpython_README.rst',\n",
       " '../data/pytorch_README.md',\n",
       " '../data/rust_README.md',\n",
       " '../data/cira_README.md']"
      ]
     },
     "execution_count": 47,
     "metadata": {},
     "output_type": "execute_result"
    }
   ],
   "source": [
    "files"
   ]
  },
  {
   "cell_type": "code",
   "execution_count": 48,
   "metadata": {},
   "outputs": [
    {
     "name": "stdout",
     "output_type": "stream",
     "text": [
      "F1 score: 0.6\n"
     ]
    }
   ],
   "source": []
  },
  {
   "cell_type": "code",
   "execution_count": null,
   "metadata": {},
   "outputs": [],
   "source": []
  }
 ],
 "metadata": {
  "kernelspec": {
   "display_name": ".venv",
   "language": "python",
   "name": "python3"
  },
  "language_info": {
   "codemirror_mode": {
    "name": "ipython",
    "version": 3
   },
   "file_extension": ".py",
   "mimetype": "text/x-python",
   "name": "python",
   "nbconvert_exporter": "python",
   "pygments_lexer": "ipython3",
   "version": "3.8.10"
  },
  "orig_nbformat": 4
 },
 "nbformat": 4,
 "nbformat_minor": 2
}
