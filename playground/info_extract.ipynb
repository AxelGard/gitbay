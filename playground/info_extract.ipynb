{
 "cells": [
  {
   "attachments": {},
   "cell_type": "markdown",
   "metadata": {},
   "source": [
    "# Information extraction\n"
   ]
  },
  {
   "cell_type": "code",
   "execution_count": null,
   "metadata": {},
   "outputs": [
    {
     "ename": "",
     "evalue": "",
     "output_type": "error",
     "traceback": [
      "\u001b[1;31mFailed to start the Kernel. \n",
      "\u001b[1;31mTraceback (most recent call last):\n",
      "\u001b[1;31m  File \"/usr/lib/python3.8/runpy.py\", line 194, in _run_module_as_main\n",
      "\u001b[1;31m    return _run_code(code, main_globals, None,\n",
      "\u001b[1;31m  File \"/usr/lib/python3.8/runpy.py\", line 87, in _run_code\n",
      "\u001b[1;31m    exec(code, run_globals)\n",
      "\u001b[1;31m  File \"/home/axel/Programs/repositories/uni/gitbay/.venv/lib/python3.8/site-packages/ipykernel_launcher.py\", line 15, in <module>\n",
      "\u001b[1;31m    from ipykernel import kernelapp as app\n",
      "\u001b[1;31m  File \"/home/axel/Programs/repositories/uni/gitbay/.venv/lib/python3.8/site-packages/ipykernel/kernelapp.py\", line 19, in <module>\n",
      "\u001b[1;31m    from IPython.core.application import (  # type:ignore[attr-defined]\n",
      "\u001b[1;31m  File \"/home/axel/Programs/repositories/uni/gitbay/.venv/lib/python3.8/site-packages/IPython/__init__.py\", line 30, in <module>\n",
      "\u001b[1;31m    raise ImportError(\n",
      "\u001b[1;31mImportError: \n",
      "\u001b[1;31mIPython 8.13+ supports Python 3.9 and above, following NEP 29.\n",
      "\u001b[1;31mIPython 8.0-8.12 supports Python 3.8 and above, following NEP 29.\n",
      "\u001b[1;31mWhen using Python 2.7, please install IPython 5.x LTS Long Term Support version.\n",
      "\u001b[1;31mPython 3.3 and 3.4 were supported up to IPython 6.x.\n",
      "\u001b[1;31mPython 3.5 was supported with IPython 7.0 to 7.9.\n",
      "\u001b[1;31mPython 3.6 was supported with IPython up to 7.16.\n",
      "\u001b[1;31mPython 3.7 was still supported with the 7.x branch.\n",
      "\u001b[1;31m\n",
      "\u001b[1;31mSee IPython `README.rst` file for more information:\n",
      "\u001b[1;31m\n",
      "\u001b[1;31m    https://github.com/ipython/ipython/blob/main/README.rst. \n",
      "\u001b[1;31mView Jupyter <a href='command:jupyter.viewOutput'>log</a> for further details."
     ]
    }
   ],
   "source": [
    "import pandas as pd \n",
    "import sklearn.feature_extraction.text import TfidfVecotrizer\n",
    "import sklearn"
   ]
  },
  {
   "attachments": {},
   "cell_type": "markdown",
   "metadata": {},
   "source": [
    "loading in readme file and making them in to tokens"
   ]
  },
  {
   "cell_type": "code",
   "execution_count": 35,
   "metadata": {},
   "outputs": [
    {
     "data": {
      "text/plain": [
       "['gard',\n",
       " '!',\n",
       " 'github',\n",
       " 'https',\n",
       " 'img',\n",
       " 'shields',\n",
       " 'io',\n",
       " 'github',\n",
       " 'license',\n",
       " 'axelgard',\n",
       " 'cira?style=plastic',\n",
       " '!',\n",
       " 'pypi',\n",
       " 'https',\n",
       " 'img',\n",
       " 'shields',\n",
       " 'io',\n",
       " 'pypi',\n",
       " 'v',\n",
       " 'cira',\n",
       " '!',\n",
       " 'pypi',\n",
       " 'python',\n",
       " 'version',\n",
       " 'https',\n",
       " 'img',\n",
       " 'shields',\n",
       " 'io',\n",
       " 'pypi',\n",
       " 'pyversions',\n",
       " 'cira',\n",
       " '!',\n",
       " 'pypi',\n",
       " 'downloads',\n",
       " 'https',\n",
       " 'img',\n",
       " 'shields',\n",
       " 'io',\n",
       " 'pypi',\n",
       " 'dm',\n",
       " 'cira',\n",
       " 'the',\n",
       " 'name',\n",
       " '**cira**',\n",
       " 'is',\n",
       " 'a',\n",
       " 'miss',\n",
       " 'spelling',\n",
       " 'of',\n",
       " 'the']"
      ]
     },
     "execution_count": 35,
     "metadata": {},
     "output_type": "execute_result"
    }
   ],
   "source": [
    "content = []\n",
    "files = [\"./cira_README.md\", \"./pytorch_README.md\"]\n",
    "for file_path in files: \n",
    "    with open(file_path, \"r\") as f:\n",
    "        content.append(f.read())\n",
    "\n",
    "\n",
    "# Token ise \n",
    "def tokenize(content):\n",
    "    ascii_char = [chr(i) for i in range(0,255)]\n",
    "    numbers = str([chr(s) for s in range(0,10)])\n",
    "    months = ['January', 'February', 'March', 'April', 'May', 'June', 'July', 'August', 'September', 'October', 'November', 'December']\n",
    "    non_acc_char =  \"\\n,.()[]`/:-_\" + numbers + months\n",
    "    for i, text in enumerate(content):\n",
    "        for c in non_acc_char:\n",
    "            content[i] = content[i].replace(c, \" \")\n",
    "        content[i] = content[i].split(\" \")\n",
    "        content[i] = list(filter(lambda c: c != \"\", content[i]))\n",
    "        content[i] = [s.lower() for s in content[i] if all(c in ascii_char for c in s)]\n",
    "    return content\n",
    "content = tokenize(content)\n",
    "content[0][100:150]"
   ]
  },
  {
   "cell_type": "markdown",
   "metadata": {},
   "source": []
  }
 ],
 "metadata": {
  "kernelspec": {
   "display_name": "Python 3",
   "language": "python",
   "name": "python3"
  },
  "language_info": {
   "codemirror_mode": {
    "name": "ipython",
    "version": 3
   },
   "file_extension": ".py",
   "mimetype": "text/x-python",
   "name": "python",
   "nbconvert_exporter": "python",
   "pygments_lexer": "ipython3",
   "version": "3.8.10"
  },
  "orig_nbformat": 4
 },
 "nbformat": 4,
 "nbformat_minor": 2
}
