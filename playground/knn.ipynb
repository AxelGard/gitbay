{
 "cells": [
  {
   "attachments": {},
   "cell_type": "markdown",
   "metadata": {},
   "source": [
    "# K means clustering  for search  "
   ]
  },
  {
   "attachments": {},
   "cell_type": "markdown",
   "metadata": {},
   "source": [
    "load data and clean "
   ]
  },
  {
   "cell_type": "code",
   "execution_count": 1,
   "metadata": {},
   "outputs": [],
   "source": [
    "\n",
    "from os import listdir\n",
    "from os.path import isfile, join\n",
    "from html.parser import HTMLParser\n",
    "from bs4 import BeautifulSoup\n",
    "\n",
    "def load_data():\n",
    "    PATH = \"../data/\"\n",
    "    contents = []\n",
    "    files = [f\"{PATH}{f}\" for f in listdir(PATH) if isfile(join(PATH, f))]\n",
    "    for file_path in files:\n",
    "        with open(file_path, \"r\") as f:\n",
    "            contents.append(f.read())\n",
    "    return files, contents\n",
    "\n",
    "\n",
    "def load_stop_words(path: str = \"../stopwords.txt\"):\n",
    "    words = []\n",
    "    with open(path, \"r\") as f:\n",
    "        words = f.read().split(\"\\n\")\n",
    "    assert len(words) != 0, \"no stop words were found\"\n",
    "    return words\n",
    "\n",
    "\n",
    "def clean_html(contents:list) -> list:\n",
    "    result = []\n",
    "    for html in contents:\n",
    "        soup = BeautifulSoup(html, 'html.parser')\n",
    "        result.append(soup.get_text())\n",
    "    return result\n",
    "\n",
    "def clean(contents: list, remove_stop_words=True):\n",
    "    #contents = clean_html(contents)\n",
    "    ascii_char = [chr(i) for i in range(0, 255)]\n",
    "    numbers = \"0123456789\"\n",
    "    non_acc_char = \"\\n,.()[]{}`/:-_*=\\\\<>|&%@?!\\\"'#\" + numbers\n",
    "    non_acc_tokens = [\"https\", \"www\", \"com\", \"org\", \"license\"]\n",
    "    stop_words = [\"\"] \n",
    "    if remove_stop_words: \n",
    "        stop_words = load_stop_words()\n",
    "    for i, _ in enumerate(contents):\n",
    "        for c in non_acc_char:\n",
    "            contents[i] = contents[i].replace(c, \" \")\n",
    "        contents[i] = contents[i].split(\" \")\n",
    "        contents[i] = list(filter(lambda c: c != \"\", contents[i]))\n",
    "        contents[i] = [t for t in contents[i] if not t in non_acc_tokens]\n",
    "        contents[i] = [\n",
    "            s.lower() for s in contents[i] if all(c in ascii_char for c in s)\n",
    "        ]\n",
    "        contents[i] = [t for t in contents[i] if not t in stop_words]\n",
    "        for j, word in enumerate(contents[i]):\n",
    "            if word[-1] == \"s\":\n",
    "                contents[i][j] = word[:-1]\n",
    "    return [\" \".join(con) for con in contents]\n",
    "\n",
    "\n",
    "def words_to_vec(words: str, labels: dict = {}):\n",
    "    _words = words.split(\" \")\n",
    "    vec = []\n",
    "    for word in _words:\n",
    "        if word not in labels:\n",
    "            labels[word] = len(labels)\n",
    "        vec.append(labels[word])\n",
    "    return vec, labels\n"
   ]
  },
  {
   "attachments": {},
   "cell_type": "markdown",
   "metadata": {},
   "source": [
    "### impl kmenas  "
   ]
  },
  {
   "cell_type": "code",
   "execution_count": 8,
   "metadata": {},
   "outputs": [],
   "source": [
    "from sklearn.neighbors import KNeighborsClassifier\n",
    "from sklearn.feature_extraction.text import HashingVectorizer "
   ]
  },
  {
   "cell_type": "code",
   "execution_count": 9,
   "metadata": {},
   "outputs": [],
   "source": [
    "K = 4"
   ]
  },
  {
   "cell_type": "code",
   "execution_count": 13,
   "metadata": {},
   "outputs": [
    {
     "data": {
      "text/html": [
       "<style>#sk-container-id-3 {color: black;background-color: white;}#sk-container-id-3 pre{padding: 0;}#sk-container-id-3 div.sk-toggleable {background-color: white;}#sk-container-id-3 label.sk-toggleable__label {cursor: pointer;display: block;width: 100%;margin-bottom: 0;padding: 0.3em;box-sizing: border-box;text-align: center;}#sk-container-id-3 label.sk-toggleable__label-arrow:before {content: \"▸\";float: left;margin-right: 0.25em;color: #696969;}#sk-container-id-3 label.sk-toggleable__label-arrow:hover:before {color: black;}#sk-container-id-3 div.sk-estimator:hover label.sk-toggleable__label-arrow:before {color: black;}#sk-container-id-3 div.sk-toggleable__content {max-height: 0;max-width: 0;overflow: hidden;text-align: left;background-color: #f0f8ff;}#sk-container-id-3 div.sk-toggleable__content pre {margin: 0.2em;color: black;border-radius: 0.25em;background-color: #f0f8ff;}#sk-container-id-3 input.sk-toggleable__control:checked~div.sk-toggleable__content {max-height: 200px;max-width: 100%;overflow: auto;}#sk-container-id-3 input.sk-toggleable__control:checked~label.sk-toggleable__label-arrow:before {content: \"▾\";}#sk-container-id-3 div.sk-estimator input.sk-toggleable__control:checked~label.sk-toggleable__label {background-color: #d4ebff;}#sk-container-id-3 div.sk-label input.sk-toggleable__control:checked~label.sk-toggleable__label {background-color: #d4ebff;}#sk-container-id-3 input.sk-hidden--visually {border: 0;clip: rect(1px 1px 1px 1px);clip: rect(1px, 1px, 1px, 1px);height: 1px;margin: -1px;overflow: hidden;padding: 0;position: absolute;width: 1px;}#sk-container-id-3 div.sk-estimator {font-family: monospace;background-color: #f0f8ff;border: 1px dotted black;border-radius: 0.25em;box-sizing: border-box;margin-bottom: 0.5em;}#sk-container-id-3 div.sk-estimator:hover {background-color: #d4ebff;}#sk-container-id-3 div.sk-parallel-item::after {content: \"\";width: 100%;border-bottom: 1px solid gray;flex-grow: 1;}#sk-container-id-3 div.sk-label:hover label.sk-toggleable__label {background-color: #d4ebff;}#sk-container-id-3 div.sk-serial::before {content: \"\";position: absolute;border-left: 1px solid gray;box-sizing: border-box;top: 0;bottom: 0;left: 50%;z-index: 0;}#sk-container-id-3 div.sk-serial {display: flex;flex-direction: column;align-items: center;background-color: white;padding-right: 0.2em;padding-left: 0.2em;position: relative;}#sk-container-id-3 div.sk-item {position: relative;z-index: 1;}#sk-container-id-3 div.sk-parallel {display: flex;align-items: stretch;justify-content: center;background-color: white;position: relative;}#sk-container-id-3 div.sk-item::before, #sk-container-id-3 div.sk-parallel-item::before {content: \"\";position: absolute;border-left: 1px solid gray;box-sizing: border-box;top: 0;bottom: 0;left: 50%;z-index: -1;}#sk-container-id-3 div.sk-parallel-item {display: flex;flex-direction: column;z-index: 1;position: relative;background-color: white;}#sk-container-id-3 div.sk-parallel-item:first-child::after {align-self: flex-end;width: 50%;}#sk-container-id-3 div.sk-parallel-item:last-child::after {align-self: flex-start;width: 50%;}#sk-container-id-3 div.sk-parallel-item:only-child::after {width: 0;}#sk-container-id-3 div.sk-dashed-wrapped {border: 1px dashed gray;margin: 0 0.4em 0.5em 0.4em;box-sizing: border-box;padding-bottom: 0.4em;background-color: white;}#sk-container-id-3 div.sk-label label {font-family: monospace;font-weight: bold;display: inline-block;line-height: 1.2em;}#sk-container-id-3 div.sk-label-container {text-align: center;}#sk-container-id-3 div.sk-container {/* jupyter's `normalize.less` sets `[hidden] { display: none; }` but bootstrap.min.css set `[hidden] { display: none !important; }` so we also need the `!important` here to be able to override the default hidden behavior on the sphinx rendered scikit-learn.org. See: https://github.com/scikit-learn/scikit-learn/issues/21755 */display: inline-block !important;position: relative;}#sk-container-id-3 div.sk-text-repr-fallback {display: none;}</style><div id=\"sk-container-id-3\" class=\"sk-top-container\"><div class=\"sk-text-repr-fallback\"><pre>KNeighborsClassifier(n_neighbors=4)</pre><b>In a Jupyter environment, please rerun this cell to show the HTML representation or trust the notebook. <br />On GitHub, the HTML representation is unable to render, please try loading this page with nbviewer.org.</b></div><div class=\"sk-container\" hidden><div class=\"sk-item\"><div class=\"sk-estimator sk-toggleable\"><input class=\"sk-toggleable__control sk-hidden--visually\" id=\"sk-estimator-id-3\" type=\"checkbox\" checked><label for=\"sk-estimator-id-3\" class=\"sk-toggleable__label sk-toggleable__label-arrow\">KNeighborsClassifier</label><div class=\"sk-toggleable__content\"><pre>KNeighborsClassifier(n_neighbors=4)</pre></div></div></div></div></div>"
      ],
      "text/plain": [
       "KNeighborsClassifier(n_neighbors=4)"
      ]
     },
     "execution_count": 13,
     "metadata": {},
     "output_type": "execute_result"
    }
   ],
   "source": [
    "files, content = load_data()\n",
    "content = clean(content)\n",
    "vectorizer = HashingVectorizer()\n",
    "content = vectorizer.fit_transform(content)\n",
    "model = KNeighborsClassifier(n_neighbors=K)\n",
    "model.fit(content,files)"
   ]
  },
  {
   "cell_type": "code",
   "execution_count": 11,
   "metadata": {},
   "outputs": [],
   "source": [
    "def to_vec(q:str):\n",
    "    global vectorizer\n",
    "    q = clean([q])[0]\n",
    "    return vectorizer.transform([q])"
   ]
  },
  {
   "cell_type": "code",
   "execution_count": 12,
   "metadata": {},
   "outputs": [
    {
     "name": "stdout",
     "output_type": "stream",
     "text": [
      "[0.25 0.25 0.   0.   0.   0.   0.   0.   0.   0.   0.   0.25 0.   0.\n",
      " 0.25 0.  ]\n",
      "../data/websites/QmYaMCtgVF46b5jTJ9n95F5yTgw9ZYCRNupBeJrvnphjTW\n",
      "../data/websites/QmR4kqBs7sis2dBuhfriAd4szr7VPERqnEvqvgaYvMomSj\n",
      "../data/websites/QmauhUbPerCeRjJAbPCoDAdASuzWJ9sMrx5k7FUPeSQDyU\n",
      "../data/websites/Qma4TxpzdcYqDMzpgGAHYCyjrsbin2C6hTnXvjbMUFondJ\n"
     ]
    }
   ],
   "source": [
    "prob = model.predict_proba(to_vec(\"government agencies\"))[0]\n",
    "print(prob)\n",
    "for i, p in enumerate(prob):\n",
    "    if p > 0.05: \n",
    "        print(files[i]) "
   ]
  },
  {
   "cell_type": "code",
   "execution_count": null,
   "metadata": {},
   "outputs": [],
   "source": []
  },
  {
   "attachments": {},
   "cell_type": "markdown",
   "metadata": {},
   "source": [
    "## Ball tree"
   ]
  },
  {
   "cell_type": "code",
   "execution_count": 3,
   "metadata": {},
   "outputs": [],
   "source": [
    "\n",
    "from sklearn.neighbors import BallTree\n",
    "import pandas as pd "
   ]
  },
  {
   "cell_type": "code",
   "execution_count": null,
   "metadata": {},
   "outputs": [],
   "source": [
    "files, content = load_data()\n",
    "content = clean(content)\n",
    "df = pd.DataFrame()"
   ]
  }
 ],
 "metadata": {
  "kernelspec": {
   "display_name": ".venv",
   "language": "python",
   "name": "python3"
  },
  "language_info": {
   "codemirror_mode": {
    "name": "ipython",
    "version": 3
   },
   "file_extension": ".py",
   "mimetype": "text/x-python",
   "name": "python",
   "nbconvert_exporter": "python",
   "pygments_lexer": "ipython3",
   "version": "3.8.10"
  },
  "orig_nbformat": 4
 },
 "nbformat": 4,
 "nbformat_minor": 2
}
