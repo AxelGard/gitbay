{
 "cells": [
  {
   "attachments": {},
   "cell_type": "markdown",
   "metadata": {},
   "source": [
    "# Information extraction using tf-idf\n"
   ]
  },
  {
   "cell_type": "code",
   "execution_count": 88,
   "metadata": {},
   "outputs": [],
   "source": [
    "import pandas as pd \n",
    "from sklearn.feature_extraction.text import TfidfVectorizer\n",
    "from sklearn.cluster import KMeans"
   ]
  },
  {
   "cell_type": "markdown",
   "metadata": {},
   "source": [
    "loading in readme file and making them in to tokens"
   ]
  },
  {
   "cell_type": "code",
   "execution_count": 89,
   "metadata": {},
   "outputs": [
    {
     "data": {
      "text/plain": [
       "'[![Cybernetically enhanced web apps: Svelte](https'"
      ]
     },
     "execution_count": 89,
     "metadata": {},
     "output_type": "execute_result"
    }
   ],
   "source": [
    "from os import listdir\n",
    "from os.path import isfile, join\n",
    "\n",
    "contents = []\n",
    "PATH = \"../data\"\n",
    "files = [f\"{PATH}/{f}\" for f in listdir(PATH) if isfile(join(PATH, f))]\n",
    "\n",
    "for file_path in files: \n",
    "    with open(file_path, \"r\") as f:\n",
    "        contents.append(f.read())\n",
    "\n",
    "contents[0][:50]"
   ]
  },
  {
   "cell_type": "code",
   "execution_count": 90,
   "metadata": {},
   "outputs": [],
   "source": [
    "\n",
    "def load_stop_words(path:str=\"../stopwords.txt\"):\n",
    "   words = []\n",
    "   with open(path, \"r\") as f: \n",
    "      words = f.read().split(\"\\n\")\n",
    "   assert len(words) != 0, \"no stop words were found\"\n",
    "   return words"
   ]
  },
  {
   "cell_type": "code",
   "execution_count": 91,
   "metadata": {},
   "outputs": [
    {
     "data": {
      "text/plain": [
       "['cybernetically enhanced apps svelte sveltejs github assets banner png svelte dev npm version img shields npm svelte svg npmjs package svelte img shields npm svelte svg license chat img shields discord label chat logo discord svelte dev chat svelte svelte build applications compiler takes declarative components converts efficient javascript surgically updates dom learn svelte svelte dev discord chatroom svelte dev chat supporting svelte svelte mit licensed source project ongoing development fantastic volunteers support efforts backer collective opencollective svelte funds donated collective compensating expenses svelte development hosting costs sufficient donations received funds support svelte development roadmap view roadmap svelte dev roadmap development pull requests encouraged pick issue github sveltejs svelte issues aissue+is aopen+sort aupdated desc install svelte locally bash git clone github sveltejs svelte git svelte npm install yarn install dependencies specific package versions package lock json build svelte build compiler modules included package bash npm build watch continually rebuild package npm link docs npmjs cli link project locally bash npm dev compiler written typescript typescriptlang basically javascript type annotations pick time editor visual studio code code visualstudio install plugin syntax highlighting code hints running tests bash npm filter tests aka grep tests involving transitions bash npm transition svelte dev source code svelte dev lives sites github sveltejs sites repository documentation content content directory built sveltekit kit svelte dev svelte dev access dev sites check superuser question answer superuser license mit license',\n",
       " 'div align center img src tensorflow images logo horizontal png div python img shields pypi pyversions tensorflow svg style plastic badge fury tensorflow pypi badge fury tensorflow svg badge fury tensorflow doi zenodo badge doi zenodo svg doi zenodo cii practices bestpractices coreinfrastructure projects badge bestpractices coreinfrastructure projects openssf scorecard api securityscorecards dev projects github tensorflow tensorflow badge api securityscorecards dev projects github tensorflow tensorflow fuzzing status oss fuzz build logs storage googleapis badges tensorflow svg bugs chromium oss fuzz issues list sort proj tensorflow fuzzing status oss fuzz build logs storage googleapis badges tensorflow svg bugs chromium oss fuzz issues list sort proj tensorflow ossrank shields endpoint url ossrank shield ossrank contributor covenant img shields badge contributor covenant svg code conduct documentation documentation img shields badge api reference blue svg tensorflow api docs tensorflow tensorflow source platform machine learning comprehensive flexible ecosystem tools tensorflow resources tools libraries tensorflow resources libraries extensions community tensorflow community resources researchers push art developers easily build deploy powered applications tensorflow originally developed researchers engineers google brain team google machine intelligence organization conduct machine learning deep neural networks applicable wide variety domains tensorflow stable python tensorflow api docs python c++ tensorflow api docs apis guaranteed compatible api languages tensorflow api docs release announcements security updates subscribing tensorflow google tensorflow forum forum mailing lists tensorflow community forums install tensorflow install guide tensorflow install pip package tensorflow install pip enable gpu support tensorflow install gpu docker container tensorflow install docker build source tensorflow install source install current release includes support cuda enabled gpu cards tensorflow install gpu ubuntu windows $ pip install tensorflow devices directx macos metal supported device plugins tensorflow install gpu plugins devices cpu package $ pip install tensorflow cpu update tensorflow version add upgrade flag commands nightly binaries testing nightly pypi python pypi nightly nightly cpu pypi python pypi nightly cpu packages pypi tensorflow program $ python python import tensorflow add numpy constant tensorflow numpy tensorflow examples tensorflow tutorials tensorflow tutorials contribution guidelines contribute tensorflow review contribution guidelines contributing project adheres tensorflow code conduct code conduct participating expected uphold code github issues github tensorflow tensorflow issues tracking requests bugs tensorflow forum discuss tensorflow questions discussion direct specific questions stack overflow stackoverflow questions tagged tensorflow tensorflow project strives abide accepted practices source software development patching guidelines follow steps patch specific version tensorflow apply fixes bugs security vulnerabilities clone tensorflow repo switch branch desired tensorflow version branch version apply cherry pick desired resolve code conflicts tensorflow tests ensure pass build tensorflow install source tensorflow pip package source continuous build status community supported platforms configurations tensorflow sig build community builds table github tensorflow build community supported tensorflow builds official builds build type status artifacts linux cpu status storage googleapis tensorflow kokoro build badges ubuntu svg storage googleapis tensorflow kokoro build badges ubuntu pypi pypi project nightly linux gpu status storage googleapis tensorflow kokoro build badges ubuntu gpu svg storage googleapis tensorflow kokoro build badges ubuntu gpu pypi pypi project nightly gpu linux xla status storage googleapis tensorflow kokoro build badges ubuntu xla svg storage googleapis tensorflow kokoro build badges ubuntu xla tba macos status storage googleapis tensorflow kokoro build badges macos svg storage googleapis tensorflow kokoro build badges macos pypi pypi project nightly windows cpu status storage googleapis tensorflow kokoro build badges windows cpu svg storage googleapis tensorflow kokoro build badges windows cpu pypi pypi project nightly windows gpu status storage googleapis tensorflow kokoro build badges windows gpu svg storage googleapis tensorflow kokoro build badges windows gpu pypi pypi project nightly gpu android status storage googleapis tensorflow kokoro build badges android svg storage googleapis tensorflow kokoro build badges android download bintray google tensorflow tensorflow latestversion raspberry pi status storage googleapis tensorflow kokoro build badges rpi svg storage googleapis tensorflow kokoro build badges rpi storage googleapis tensorflow nightly tensorflow cp linux armv whl raspberry pi status storage googleapis tensorflow kokoro build badges rpi svg storage googleapis tensorflow kokoro build badges rpi storage googleapis tensorflow nightly tensorflow cp linux armv whl libtensorflow macos cpu status temporarily unavailable nightly binary storage googleapis libtensorflow nightly prod tensorflow release macos macos cpu libtensorflow binaries tar gz official gcs storage googleapis tensorflow libtensorflow linux cpu status temporarily unavailable nightly binary storage googleapis libtensorflow nightly prod tensorflow release ubuntu cpu ubuntu cpu libtensorflow binaries tar gz official gcs storage googleapis tensorflow libtensorflow linux gpu status temporarily unavailable nightly binary storage googleapis libtensorflow nightly prod tensorflow release ubuntu gpu ubuntu gpu libtensorflow binaries tar gz official gcs storage googleapis tensorflow libtensorflow windows cpu status temporarily unavailable nightly binary storage googleapis libtensorflow nightly prod tensorflow release windows cpu windows cpu libtensorflow binaries tar gz official gcs storage googleapis tensorflow libtensorflow windows gpu status temporarily unavailable nightly binary storage googleapis libtensorflow nightly prod tensorflow release windows gpu windows gpu libtensorflow binaries tar gz official gcs storage googleapis tensorflow resources tensorflow tensorflow tensorflow tutorials tensorflow tutorials tensorflow official models github tensorflow models tree master official tensorflow examples github tensorflow examples tensorflow codelabs codelabs developers google cat tensorflow tensorflow blog blog tensorflow learn tensorflow tensorflow resources learn tensorflow twitter twitter tensorflow tensorflow youtube youtube channel uc rqucbdtuftjjiefw tensorflow model optimization roadmap tensorflow model optimization guide roadmap tensorflow white papers tensorflow bib tensorboard visualization toolkit github tensorflow tensorboard tensorflow code search opensource google tensorflow tensorflow learn tensorflow community tensorflow community contribute tensorflow community contribute courses deep learning tensorflow edx edx deep learning tensorflow deeplearning tensorflow developer professional certificate coursera coursera specializations tensorflow practice tensorflow data deployment coursera coursera specializations tensorflow data deployment started tensorflow coursera coursera learn started tensor flow tensorflow advanced techniques coursera coursera specializations tensorflow advanced techniques tensorflow deep learning specialization coursera coursera specializations tensorflow deeplearning intro tensorflow coursera coursera learn introduction tensorflow machine learning tensorflow gcp coursera coursera specializations machine learning tensorflow gcp intro tensorflow deep learning udacity udacity intro tensorflow deep learning ud introduction tensorflow lite udacity udacity intro tensorflow lite ud license apache license license',\n",
       " 'react reactjs middot; github img shields badge mit blue svg github facebook react blob main license npm version img shields npm react svg style flat npmjs package react circleci status circleci facebook react svg style shield circleci facebook react prs img shields badge prs brightgreen svg reactjs docs contribute pull request react javascript library building user interfaces declarative react painless create interactive uis design simple views application react efficiently update render components data declarative views code predictable simpler understand easier debug component based build encapsulated components manage compose complex uis component logic written javascript templates easily pass rich data app dom learn write assumptions rest technology stack develop features react rewriting existing code react render server node power mobile apps react native reactnative dev learn react project reactjs docs started installation react designed gradual adoption start react online playgrounds reactjs docs started online playgrounds taste react add react reactjs docs add react script tag minute create react app reactjs docs create react app powerful javascript toolchain react script tag cdn reactjs docs cdn links react package npm npmjs package react documentation react documentation reactjs check started reactjs docs started quick overview documentation divided sections tutorial reactjs tutorial tutorial main concepts reactjs docs advanced guides reactjs docs jsx depth api reference reactjs docs react api support reactjs community support contributing guide reactjs docs contribute improve sending pull requests repository github reactjs reactjs examples examples reactjs started jsx import { createroot } react dom client ; function hellomessage { } { return div {name} div ; } const root createroot document getelementbyid container ; root render hellomessage taylor ; render taylor container notice syntax; jsx reactjs docs introducing jsx jsx required react code readable writing feels writing react script tag read reactjs docs add react optional react jsx integrating jsx; recommended javascript toolchains reactjs docs create react app handle automatically contributing main purpose repository continue evolving react core faster easier development react github grateful community contributing bugfixes improvements read learn improving react code conduct code fb codeofconduct facebook code conduct expect project participants adhere read code fb codeofconduct understand actions tolerated contributing guide reactjs docs contribute read contributing guide reactjs docs contribute learn development process propose bugfixes improvements build react issues feet wet familiar contribution process list issues github facebook react labels issue bugs limited scope started license react mit licensed license',\n",
       " 'align center href vuejs target blank rel noopener noreferrer img src vuejs images logo png alt vue logo align center href circleci vuejs vue tree dev img src img shields circleci project github vuejs vue dev svg sanitize true alt build status href codecov github vuejs vue branch dev img src img shields codecov github vuejs vue dev svg sanitize true alt coverage status href npmcharts compare vue minimal true img src img shields npm vue svg sanitize true alt downloads href npmjs package vue img src img shields npm vue svg sanitize true alt version href npmjs package vue img src img shields npm vue svg sanitize true alt license href chat vuejs img src img shields badge chat discord da svg sanitize true alt chat repo vue repository vue repo vue vuejs core github vuejs core sponsors vue js mit licensed source project ongoing development support awesome backers github vuejs core blob main backers sponsor vue development vuejs sponsor align center align center special sponsor align center target blank href github appwrite appwrite img alt special sponsor appwrite src sponsors vuejs images appwrite svg align center target blank href vuejs sponsor img alt sponsors src sponsors vuejs sponsors svg introduction vue pronounced view progressive framework building user interfaces designed ground incrementally adoptable easily scale library framework depending consists approachable core library focuses view layer ecosystem supporting libraries helps tackle complexity single applications browser compatibility vue js supports browsers compliant kangax github compat table supported ecosystem project status description vue router vue router status vue router package single application routing vuex vuex status vuex package scale management vue cli vue cli status vue cli package project scaffolding vue loader vue loader status vue loader package single file component vue file loader webpack vue server renderer vue server renderer status vue server renderer package server rendering support vue class component vue class component status vue class component package typescript decorator class based api vue rx vue rx status vue rx package rxjs integration vue devtools vue devtools status vue devtools package browser devtools extension vue router github vuejs vue router vuex github vuejs vuex vue cli github vuejs vue cli vue loader github vuejs vue loader vue server renderer github vuejs vue tree dev packages vue server renderer vue class component github vuejs vue class component vue rx github vuejs vue rx vue devtools github vuejs vue devtools vue router status img shields npm vue router svg vuex status img shields npm vuex svg vue cli status img shields npm vue cli svg vue loader status img shields npm vue loader svg vue server renderer status img shields npm vue server renderer svg vue class component status img shields npm vue class component svg vue rx status img shields npm vue rx svg vue devtools status img shields chrome store nhdogjmejiglipccpnnnanhbledajbpd svg vue router package npmjs package vue router vuex package npmjs package vuex vue cli package npmjs package vue cli vue loader package npmjs package vue loader vue server renderer package npmjs package vue server renderer vue class component package npmjs package vue class component vue rx package npmjs package vue rx vue devtools package chrome google webstore vuejs devtools nhdogjmejiglipccpnnnanhbledajbpd documentation check live examples vuejs examples docs visit vuejs vuejs questions questions support official forum forum vuejs community chat chat vuejs issue list repo exclusively bug reports feature requests issues read issue reporting checklist github vuejs vue blob dev github contributing issue reporting guidelines issue issues conforming guidelines closed changelog detailed release documented release notes github vuejs vue releases stay touch twitter twitter vuejs blog medium vue job board vuejobs vuejs contribution read contributing guide github vuejs vue blob dev github contributing pull request vue project component tool add pull request curated list github vuejs awesome vue people contributed vue href github vuejs vue graphs contributors img src opencollective vuejs contributors svg license mit opensource licenses mit copyright yuxi evan',\n",
       " 'directory gnu compiler collection gcc gnu compiler collection software files names start copying copying permission manuals runtime libraries terms; individual source files details directory install copies installation plain source gcc doc install texi installation includes details included gcc sources files gcc installs file gcc doc gcc texi files includes usage porting online readable version manual files gcc doc gcc info gcc gnu bugs report bugs copyright gcc source files listed range notation indicating range inclusive copyrightable listed individually',\n",
       " 'linux kernel guides kernel developers users guides rendered formats pdf read documentation admin guide readme rst build documentation htmldocs pdfdocs formatted documentation read online kernel doc files documentation subdirectory restructured markup notation read documentation process rst file requirements building running kernel result upgrading kernel',\n",
       " 'python version alpha image github python cpython workflows tests badge svg alt cpython build status github actions target github python cpython actions image dev azure python cpython apis build status azure pipelines branchname main alt cpython build status azure devops target dev azure python cpython build definitionid branchname main image img shields badge discourse chat brightgreen svg alt python discourse chat target discuss python copyright © python software foundation rights file copyright contents python source code github python cpython issue tracker github python cpython issues documentation docs python developer guide devguide python contributing cpython complete instructions contributing cpython development developer guide developer guide devguide python python installable python kits python python python python build instructions unix linux bsd macos cygwin configure sudo install install python python pass options configure script; configure macos insensitive file systems cygwin executable called python exe ; python building complete python installation requires additional party libraries depending build platform configure options standard library modules buildable useable platforms refer install dependencies devguide python started setup building build dependencies developer guide current detailed dependencies linux distributions macos macos additional configure build options macos framework universal builds refer mac readme rst github python cpython blob main mac readme rst windows pcbuild readme txt github python cpython blob main pcbuild readme txt create subdirectory invoke configure mkdir debug debug configure pydebug fail built level directory clean level optimized build python configure enable optimizations sets default targets enable profile guided optimization pgo auto enable link time optimization lto platforms details sections profile guided optimization ^^^^^^^^^^^^^^^^^^^^^^^^^^^ pgo takes advantage versions gcc clang compilers configure enable optimizations manually running profile opt configure flags optimized build process perform steps entire python directory cleaned temporary files previous compilation instrumented version interpreter built suitable compiler flags flavor note intermediary step binary step real life workloads profiling instructions embedded instrumented interpreter built makefile training workload profile interpreter execution note output stdout stderr step suppressed final step build actual interpreter collected instrumented result python binary optimized; suitable distribution production installation link time optimization ^^^^^^^^^^^^^^^^^^^^^^ enabled configure lto flag lto takes advantage ability compiler toolchains optimize arbitrary file boundary building final executables shared libraries additional performance gains comprehensive overview python docs python whatsnew document detailed change log read misc news github python cpython tree main misc news accounting gleaned commit history github python cpython commits main install multiple versions python entitled installing multiple versions documentation documentation python docs python online updated daily downloaded formats faster access documentation downloadable pdf restructuredtext formats; version documentation authors translators people special formatting requirements building python documentation refer doc readme rst github python cpython blob main doc readme rst converting python incompatible release python programs written python fail python porting code python python porting howto docs python howto pyporting testing interpreter type level directory set produces output ignore messages skipped tests optional features imported message printed failed traceback core dump produced wrong default tests prevented overusing resources disk space memory enable tests testall tests fail failing verbose mode os gdb failed testopts os gdb failure persists appears python environment file bug report github python cpython issues include relevant output command issue running writing tests devguide python testing write tests running tests installing multiple versions unix mac systems intend install multiple versions python installation prefix prefix argument configure script care primary python executable overwritten installation version files directories installed altinstall major minor version live install creates ${prefix} bin python refers ${prefix} bin python intend install multiple versions prefix decide version primary version install version install install versions altinstall install python primary version execute install build directory altinstall issue tracker mailing list bug reports github report bugs github python cpython issues submit pull requests github python cpython pulls follow development discussion python dev mailing list mail python mailman listinfo python dev proposals enhancement proposal change python send email comp lang python python ideas mailing lists initial feedback python enhancement proposal pep submitted idea gains ground current peps guidelines submitting pep listed peps python peps python python ideas mail python mailman listinfo python ideas comp lang python mail python mailman listinfo python list release schedule pep python release details copyright license copyright © python software foundation rights copyright © beopen rights copyright © corporation national initiatives rights copyright © stichting mathematisch centrum rights license github python cpython blob main license history software terms conditions usage disclaimer warranties python distribution gnu public license gpl code proprietary projects interfaces gnu code optional trademarks referenced property respective holders',\n",
       " 'pytorch logo github pytorch pytorch blob main docs source static img pytorch logo dark png pytorch python package level features tensor computation numpy strong gpu acceleration deep neural networks built tape based autograd reuse favorite python packages numpy scipy cython extend pytorch trunk health continuous integration signals hud pytorch hud pytorch pytorch pytorch main toc pytorch pytorch gpu ready tensor library gpu ready tensor library dynamic neural networks tape based autograd dynamic neural networks tape based autograd python python imperative experiences imperative experiences fast lean fast lean extensions pain extensions pain installation installation binaries binaries nvidia jetson platforms nvidia jetson platforms source source prerequisites prerequisites install dependencies install dependencies pytorch source pytorch source install pytorch install pytorch adjust build options optional adjust build options optional docker image docker image pre built images pre built images building image building image building documentation building documentation previous versions previous versions started started resources resources communication communication releases contributing releases contributing team team license tocstop pytorch granular level pytorch library consists components component description torch pytorch docs stable torch tensor library numpy strong gpu support torch autograd pytorch docs stable autograd tape based automatic differentiation library supports differentiable tensor operations torch torch jit pytorch docs stable jit compilation stack torchscript create serializable optimizable models pytorch code torch nn pytorch docs stable nn neural networks library deeply integrated autograd designed maximum flexibility torch multiprocessing pytorch docs stable multiprocessing python multiprocessing magical memory sharing torch tensors processes data loading hogwild training torch utils pytorch docs stable data dataloader utility functions convenience pytorch replacement numpy power gpus deep learning platform maximum flexibility speed elaborating gpu ready tensor library numpy tensors ndarray tensor illustration docs source static img tensor illustration png pytorch tensors live cpu gpu accelerates computation huge provide wide variety tensor routines accelerate fit scientific computation slicing indexing mathematical operations linear algebra reductions fast dynamic neural networks tape based autograd pytorch unique building neural networks replaying tape recorder frameworks tensorflow theano caffe cntk static view build neural network reuse structure changing network behaves start scratch pytorch technique called reverse mode auto differentiation change network behaves arbitrarily lag overhead inspiration papers topic current torch autograd github twitter torch autograd autograd github hips autograd chainer chainer technique unique pytorch fastest implementations speed flexibility crazy dynamic graph github pytorch pytorch blob main docs source static img dynamic graph gif python pytorch python binding monolithic c++ framework built deeply integrated python naturally numpy numpy scipy scipy scikit learn scikit learn write neural network layers python favorite libraries packages cython cython numba numba pydata goal reinvent wheel imperative experiences pytorch designed intuitive linear easy execute code executed asynchronous view drop debugger receive error messages stack traces understanding straightforward stack trace code defined hope spend hours debugging code bad stack traces asynchronous opaque execution engines fast lean pytorch minimal framework overhead integrate acceleration libraries intel mkl software intel mkl nvidia cudnn developer nvidia cudnn nccl developer nvidia nccl maximize speed core cpu gpu tensor neural network backends mature tested pytorch fast neural networks memory usage pytorch extremely efficient compared torch alternatives written custom memory allocators gpu deep learning models maximally memory efficient enables train bigger deep learning models extensions pain writing neural network modules interfacing pytorch tensor api designed straightforward minimal abstractions write neural network layers python torch api favorite numpy based libraries scipy pytorch tutorials advanced numpy extensions tutorial write layers c++ provide convenient extension api efficient minimal boilerplate wrapper code written tutorial pytorch tutorials advanced cpp extension github pytorch extension cpp installation binaries commands install binaries conda pip wheels pytorch started locally pytorch started locally nvidia jetson platforms python wheels nvidia jetson nano jetson tx tx jetson xavier nx agx jetson agx orin forums developer nvidia pytorch jetson version container published catalog ngc nvidia orgs nvidia containers pytorch require jetpack dusty nv github dusty nv ptrblck github ptrblck maintaining source prerequisites installing source python linux python + c++ compatible compiler clang highly recommend installing anaconda anaconda distribution download environment quality blas library mkl controlled dependency versions linux distro compile cuda support install note cuda supported macos nvidia cuda developer nvidia cuda downloads nvidia cudnn developer nvidia cudnn compiler gist github ax compatible cuda note refer cudnn support matrix docs nvidia deeplearning cudnn pdf cudnn support matrix pdf cudnn versions supported cuda cuda driver nvidia hardware disable cuda support export environment variable cuda environment variables setup building nvidia jetson platforms jetson nano tx tx agx xavier instructions install pytorch jetson nano devtalk nvidia default topic jetson nano pytorch jetson nano compile rocm support install amd rocm rocmdocs amd en installation guide installation guide installation rocm supported linux systems disable rocm support export environment variable rocm environment variables setup install dependencies common bash conda install cmake ninja command pytorch directory cloning source code pytorch pip install requirements txt linux bash conda install mkl mkl include cuda add lapack support gpu conda install pytorch magma cuda magma cuda matches cuda version anaconda pytorch repo optional torch compile inductor triton install matching version triton pytorch directory cloning triton macos bash add package intel processor machines conda install mkl mkl include add packages torch distributed conda install pkg config libuv windows bash conda install mkl mkl include add packages torch distributed distributed package support windows prototype feature subject conda install conda forge libuv pytorch source bash git clone recursive github pytorch pytorch pytorch updating existing checkout git submodule sync git submodule update init recursive install pytorch linux compiling amd rocm command bash compiling rocm python tools amd build build amd install pytorch bash export cmake prefix path ${conda prefix $ dirname $ conda } python setup develop anaconda anaconda distribution download experience error caused linker plaintext build temp linux torch csrc stub file recognized file format recognized collect error ld returned exit status error command g++ failed exit status caused ld conda environment shadowing ld version python fixes issue recommended python version + macos bash python setup develop windows choose correct visual studio version pytorch visual c++ buildtools visual studio enterprise professional community editions install build tools visualstudio visual cpp build tools build tools visual studio code default build legacy python code refer building legacy code cuda github pytorch pytorch blob main contributing building legacy code cuda cpu builds mode pytorch computations cpu gpu cmd conda activate python setup develop note openmp desired openmp implementation intel openmp iomp link iomp manually download library set building environment tweaking cmake include path lib instruction github pytorch pytorch blob main docs source notes windows rst building source setting mkl intel openmp configurations cmake visual openmp runtime vcomp cuda based build mode pytorch computations leverage gpu cuda faster crunching nvtx docs nvidia gameworks content gameworkslibrary nvtx nvidia tools extension library nvtx build pytorch cuda nvtx cuda distributive called nsight compute install installed cuda cuda installation check checkbox cuda nsight compute installed visual studio ninja supported generator cmake ninja exe detected path ninja default generator ninja selected generator msvc selected underlying toolchain additional libraries magma developer nvidia magma onednn mkldnn dnnl github oneapi src onednn sccache github mozilla sccache refer installation helper github pytorch pytorch tree main pytorch win helpers installation helpers install refer build pytorch bat github pytorch pytorch blob main pytorch win helpers build pytorch bat script environment variables configurations cmd cmd set environment variables downloaded unzipped mkl package cmake throw error openmp set cmake include path {your directory} mkl include set lib {your directory} mkl lib; lib read content previous carefully proceed optional override underlying toolset ninja visual studio cuda script block visual studio developer command prompt automatically cmake visual studio generator set cmake generator toolset version set distutils sdk usebackq tokens programfiles visual studio installer vswhere exe version ^ ^ products property installationpath auxiliary build vcvarsall bat vcvars ver cmake generator toolset version optional override cuda host compiler set cudahostcxx program files visual studio community tools msvc bin hostx exe python setup develop adjust build options optional adjust configuration cmake variables optionally building adjusting pre detected directories cudnn blas step linux bash export cmake prefix path ${conda prefix $ dirname $ conda } python setup build cmake ccmake build cmake gui build macos bash export cmake prefix path ${conda prefix $ dirname $ conda } macosx deployment target clang cxx clang++ python setup build cmake ccmake build cmake gui build docker image pre built images pull pre built docker image docker hub docker + bash docker gpus rm ti ipc host pytorch pytorch note pytorch shared memory share data processes torch multiprocessing multithreaded data loaders default shared memory segment size container runs increase shared memory size ipc host shm size command options nvidia docker building image note built docker version dockerfile supplied build images cuda support cudnn pass python version variable python version miniconda leave unset default bash docker makefile images tagged docker ${your docker username} pytorch building documentation build documentation formats sphinx sphinx doc readthedocs theme bash docs pip install requirements txt build documentation running format docs folder list output formats katex error npm install katex persists npm install katex note installed nodejs package manager conda npm install version katex compatible version nodejs doc builds fail combination versions node katex install npm npm install katex previous versions installation instructions binaries previous pytorch versions pytorch previous versions started pointers started tutorials started understanding pytorch pytorch tutorials examples easy understand pytorch code domains github pytorch examples api reference pytorch docs glossary github pytorch pytorch blob main glossary resources pytorch pytorch pytorch tutorials pytorch tutorials pytorch examples github pytorch examples pytorch models pytorch hub intro deep learning pytorch udacity udacity deep learning pytorch ud intro machine learning pytorch udacity udacity intro machine learning nanodegree deep neural networks pytorch coursera coursera learn deep neural networks pytorch pytorch twitter twitter pytorch pytorch blog pytorch blog pytorch youtube youtube channel ucwxi yeosh qvj pmaxfw communication forums discuss implementations discuss pytorch github issues bug reports feature requests install issues rfcs slack pytorch slack pytorch slack hosts primary audience moderate experienced pytorch users developers chat online discussions collaboration beginner primary medium pytorch forums discuss pytorch slack invite form goo forms agvnhpsajp newsletter noise email newsletter announcements pytorch sign eepurl cbg rv facebook announcements pytorch facebook pytorch brand guidelines visit pytorch pytorch releases contributing pytorch day release cycle major releases encounter bug filing issue github pytorch pytorch issues contributions planning contribute bug fixes discussion plan contribute features utility functions extensions core issue discuss feature sending discussion rejected core direction aware learn contribution pytorch contribution contributing team pytorch community driven project skillful engineers researchers contributing pytorch maintained soumith chintala soumith gregory chanan github gchanan dmytro dzhulgakov github dzhulgakov edward yang github ezyang nikita shulga github malfet major contributions coming hundreds talented individuals forms exhaustive growing list mention trevor killeen sasank chilamkurthy sergey zagoruyko adam lerer francisco massa alykhan tejani luca antiga alban desmaison andreas koepf james bradbury zeming lin yuandong tian guillaume lample marat dukhan natalia gimelshein christian sarofeen martin raison edward yang zachary devito note project unrelated hughperkins pytorch github hughperkins pytorch hugh valuable contributor torch community helped torch pytorch license pytorch bsd style license license file',\n",
       " 'rust programming language rust community img shields badge rust community brightgreen style plastic logo rust rust lang community main source code repository rust compiler standard library documentation rust rust lang note readme users contributors contribute compiler read contributing contributing quick start read installation book installation doc rust lang book installation book doc rust lang book installing source rust build python script called build compiler manages bootstrapping process lives root project file named config toml determine configuration settings build list options config toml command unix systems format subcommand flags documentation examples assume running alternative unix python command subcommand flags windows command prompt files configured python subcommand flags python python subcommand flags running flag reading rustc dev guide rustcguidebuild gettingstarted rustc dev guide rust lang started rustcguidebuild rustc dev guide rust lang building build dependencies installed dependencies python git compiler building host enough; cross compiling additional compilers curl windows pkg config compiling linux targeting linux libiconv included glibc debian based distros build cargo openssl libssl dev openssl devel unix distros building llvm source additional tools g++ clang++ msvc versions listed llvm documentation llvm docs gettingstarted host toolchain compiler standard library ninja gnu ninja recommended windows cmake libstdc++ static required linux distributions fedora ubuntu tier tier host tools platforms choose download llvm setting llvm download llvm true llvm installed llvm config path rustc dev guide info sysllvm sysllvm rustc dev guide rust lang building target pre built llvm building unix build steps clone source git git clone github rust lang rust git rust source github rust lang rust configure build settings configure plan install create installation recommended set prefix install directory configure set install prefix path build install build install complete install programs $prefix bin rustc rust compiler rustdoc api documentation tool default include cargo rust package manager disable behavior passing set build extended false configure cargo github rust lang cargo configure project configure script makefile invokes configure recommended programatically generate config toml recommended supported break unnecessarily configure sudo install configure generates config toml normal invocations building windows windows winget install dependencies running terminal powershell winget install python python winget install kitware cmake winget install git git edit path variable add program files cmake bin guide editing path java en download path java documentation winget github winget cli prominent abis windows native msvc abi visual studio gnu abi gcc toolchain version rust depends c++ libraries interoperate msvc build rust interop software produced visual studio gnu build interop gnu software built mingw msys toolchain mingw msys msys easily build rust windows msys msys download msys installer msys installer mingw bat mingw bat msys installation directory msys depending bit bit rust version msys msys cmd mingw msys cmd mingw command terminal install required tools update package mirrors fresh install msys pacman pacman mirrors install build tools rust building bit compiler replace git python cmake installed path remove list note python cmake ninja packages msys subsystem build historically fail packages pacman git diffutils tar mingw python mingw cmake mingw gcc mingw ninja navigate rust source code clone build python setup user python build python install msvc msvc builds rust additionally require installation visual studio rustc linker simplest visual studio check c++ build tools windows sdk workload visual studio visualstudio downloads installing cmake careful c++ cmake tools windows included individual components dependencies installed build compiler cmd exe python setup user python build building rust versions visual studio version installed build understand force rustbuild version manually calling vcvars file running bootstrap batch program files visual studio community auxiliary build vcvars bat python build abi specific abi environment gnu abi powershell explicit build triple windows build triples gnu abi gcc pc windows gnu pc windows gnu msvc abi pc windows msvc pc windows msvc build triple build triple invoking commands creating config toml file building unix building unix passing set build build triple configure building documentation build documentation doc generated documentation doc build directory abi abi pc windows msvc directory build pc windows msvc doc notes rust compiler written rust built precompiled snapshot version earlier stage development source builds require internet connection fetch snapshots os execute snapshot binaries doc rust lang nightly rustc platform support list supported platforms host tools platforms pre compiled snapshot binary available; compile platform host tools cross compile platforms officially supported build environments rust lang community list chat platforms forums contributing contributing contributing license rust distributed terms mit apache license version portions covered bsd licenses license apache license apache license mit license mit copyright copyright details trademark rust foundation rust foundation owns protects rust cargo trademarks logos rust trademarks names brands read media guide media guide party logos subject party copyrights trademarks licenses policies licenses details rust foundation foundation rust lang media guide foundation rust lang policies logo policy media guide policies licenses rust lang policies licenses',\n",
       " 'cira cira algorithmic trading easy façade library refactoring guru design patterns facade simpler interaction alpaca trade api alpaca markets cira pip pypi project cira star cira external content duckduckgo iu pinimg fb fb cfea fcfeceeb fa ced llama drawing drawing art jpg nofb github stars img shields github stars axelgard cira style social github forks img shields github forks axelgard cira style social tweet img shields twitter url shields svg style social twitter axel gard github img shields github axelgard cira style plastic pypi img shields pypi cira pypi python version img shields pypi pyversions cira pypi downloads img shields pypi cira cira spelling word baby alpaca cria en wikipedia wiki cria simple lib perfect fit axel gard github axelgard main developer cira started started fast cira boilerplate github cira cira boilerplate cira checkout tutorial github axelgard cira wiki tutorial installation install pip pypi project cira bash pip install cira usage alpaca trade api api key generate key alpaca markets app alpaca markets signup play paper trading recommended beginners recommend json file cira path set variables environment variable wiki github axelgard cira wiki storing alpaca api key diffrent recommended store file upload file public repositories key json json { apca api key pub key apca api secret key private key } start lib python import cira cira alpaca key file mypath key json stock cira stock tsla stock stock sell classes cira python portfolio cira portfolio methods portfolio exchange cira exchange methods exchange stock cira stock tsla class stock simple algorithm couple lines running super simple algorithm python import cira import random import time cira alpaca key file mypath key json portfolio cira portfolio exchange cira exchange qty choose stocks handled session true exchange stock random choices exchange stocks qty stock stock random choices portfolio owned stocks qty stock sell time sleep min timer examples wiki examples github axelgard cira wiki examples wiki tutorial github axelgard cira wiki tutorial checkout news github axelgard cira discussions categories news wiki github axelgard cira wiki tutorial github axelgard cira wiki tutorial storing alpaca api key github axelgard cira wiki storing alpaca api key examples cira github axelgard cira wiki examples discussions github axelgard cira discussions cira github cira wiki github axelgard cira wiki docs check wiki github axelgard cira wiki build fund trader cira github axelgard cira wiki examples simple fund version compatibility fork cira cira classic github axelgard cira classic cira classic pypi pip pypi project cira classic bug plz issue solve pull request question question cira share built cira talk cira checkout discussions github axelgard cira discussions issue fitting history cira alpaca trade api building quantitative paper trader project github axelgard paper trader alomst realized alomst build library alpaca api real library started quantitative paper trading development develop cira feel pull request issue install cira dev req bash git clone git github axelgard cira git cira git checkout develop bash python venv env source env bin activate pip install tests pytest ensure cira dir key key testing mind assets portfolio sold bash touch tests key json pytest coding style follow pep pep standard notation library intuitive easy license project licensed mit license license license txt file details acknowledgments alpaca api alpaca markets paper trader github axelgard paper trader cira classic github axelgard cira classic']"
      ]
     },
     "execution_count": 91,
     "metadata": {},
     "output_type": "execute_result"
    }
   ],
   "source": [
    "\n",
    "\n",
    "\n",
    "def clean(content:list):\n",
    "    ascii_char = [chr(i) for i in range(0,255)]\n",
    "    numbers = \"0123456789\"\n",
    "    non_acc_char =  \"\\n,.()[]`/:-_*=\\\\<>|&%@?!\\\"\\'#\" + numbers\n",
    "    non_acc_tokens = [\"https\",\"www\", \"com\", \"org\", \"license\"]\n",
    "    stop_words = load_stop_words()\n",
    "    for i, _ in enumerate(content):\n",
    "        for c in non_acc_char:\n",
    "            content[i] = content[i].replace(c, \" \")\n",
    "        content[i] = content[i].split(\" \")\n",
    "        content[i] = list(filter(lambda c: c != \"\", content[i]))\n",
    "        content[i] = [t for t in content[i] if not t in non_acc_tokens ] \n",
    "        content[i] = [s.lower() for s in content[i] if all(c in ascii_char for c in s)]\n",
    "        content[i] = [t for t in content[i] if not t in stop_words] \n",
    "    return [\" \".join(con) for con in content]\n",
    "\n",
    "\n",
    "contents = clean(contents)\n",
    "contents"
   ]
  },
  {
   "cell_type": "code",
   "execution_count": 92,
   "metadata": {},
   "outputs": [],
   "source": [
    "def TfIdf(content:list):\n",
    "    vectorizer = TfidfVectorizer()\n",
    "    vecs = vectorizer.fit_transform(content)\n",
    "    feature_names = vectorizer.get_feature_names_out()\n",
    "    dense = vecs.todense()\n",
    "    dense_list = dense.tolist()\n",
    "    df = pd.DataFrame(dense_list, columns=feature_names)\n",
    "    return df\n",
    "\n",
    "tf_idf_data = TfIdf(contents)\n"
   ]
  },
  {
   "cell_type": "code",
   "execution_count": 93,
   "metadata": {},
   "outputs": [],
   "source": [
    "from collections import defaultdict\n",
    "\n",
    "def query_data(tf_idf_data:dict, query:str)->list:\n",
    "    query = clean([query])[0]\n",
    "    print(query.split(\" \"))\n",
    "    words_tf_idf = {}\n",
    "    query_words = query.split(\" \")\n",
    "    for word in query_words: \n",
    "        if word in tf_idf_data.keys():\n",
    "            words_tf_idf[word] = tf_idf_data[word]\n",
    "\n",
    "    result = []\n",
    "    highest = 0.0\n",
    "    for word, tf_idf in words_tf_idf.items():\n",
    "        for idx, val in tf_idf.items(): \n",
    "            if val > highest: \n",
    "                highest = val \n",
    "                result.append((val, idx))\n",
    "    result.sort()\n",
    "    result.reverse()\n",
    "    lookup = set()\n",
    "    result = [idx for _, idx in result if idx not in lookup and lookup.add(idx) is None]\n",
    "    return result\n"
   ]
  },
  {
   "cell_type": "code",
   "execution_count": 97,
   "metadata": {},
   "outputs": [
    {
     "name": "stdout",
     "output_type": "stream",
     "text": [
      "['javascript', 'framework']\n",
      "../data/react_README.md\n",
      "../data/svelte_README.md\n"
     ]
    }
   ],
   "source": [
    "query = \"I'm interested in working on javascript framework\"\n",
    "idxs = query_data(tf_idf_data.to_dict(), query)\n",
    "for idx in idxs:    \n",
    "    print(files[idx])"
   ]
  },
  {
   "cell_type": "code",
   "execution_count": 95,
   "metadata": {},
   "outputs": [
    {
     "data": {
      "text/plain": [
       "0    0.000000\n",
       "1    0.000000\n",
       "2    0.000000\n",
       "3    0.000000\n",
       "4    0.000000\n",
       "5    0.000000\n",
       "6    0.000000\n",
       "7    0.000000\n",
       "8    0.000000\n",
       "9    0.796774\n",
       "Name: cira, dtype: float64"
      ]
     },
     "execution_count": 95,
     "metadata": {},
     "output_type": "execute_result"
    }
   ],
   "source": [
    "tf_idf_data[\"cira\"]"
   ]
  },
  {
   "cell_type": "code",
   "execution_count": 96,
   "metadata": {},
   "outputs": [
    {
     "data": {
      "text/plain": [
       "['../data/svelte_README.md',\n",
       " '../data/tensorflow_README.md',\n",
       " '../data/react_README.md',\n",
       " '../data/vuejs_README.md',\n",
       " '../data/gcc_README.txt',\n",
       " '../data/linux_README.txt',\n",
       " '../data/cpython_README.rst',\n",
       " '../data/pytorch_README.md',\n",
       " '../data/rust_README.md',\n",
       " '../data/cira_README.md']"
      ]
     },
     "execution_count": 96,
     "metadata": {},
     "output_type": "execute_result"
    }
   ],
   "source": [
    "files"
   ]
  },
  {
   "cell_type": "code",
   "execution_count": null,
   "metadata": {},
   "outputs": [],
   "source": []
  }
 ],
 "metadata": {
  "kernelspec": {
   "display_name": "Python 3",
   "language": "python",
   "name": "python3"
  },
  "language_info": {
   "codemirror_mode": {
    "name": "ipython",
    "version": 3
   },
   "file_extension": ".py",
   "mimetype": "text/x-python",
   "name": "python",
   "nbconvert_exporter": "python",
   "pygments_lexer": "ipython3",
   "version": "3.8.10"
  }
 },
 "nbformat": 4,
 "nbformat_minor": 2
}
