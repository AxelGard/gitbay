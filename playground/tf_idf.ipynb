{
 "cells": [
  {
   "attachments": {},
   "cell_type": "markdown",
   "metadata": {},
   "source": [
    "# Information extraction using tf-idf\n"
   ]
  },
  {
   "cell_type": "code",
   "execution_count": 1,
   "metadata": {},
   "outputs": [],
   "source": [
    "import pandas as pd \n",
    "from sklearn.feature_extraction.text import TfidfVectorizer\n",
    "from sklearn.cluster import KMeans"
   ]
  },
  {
   "cell_type": "markdown",
   "metadata": {},
   "source": [
    "loading in readme file and making them in to tokens"
   ]
  },
  {
   "cell_type": "code",
   "execution_count": 2,
   "metadata": {},
   "outputs": [
    {
     "data": {
      "text/plain": [
       "'# [React](https://reactjs.org/) &middot; [![GitHub'"
      ]
     },
     "execution_count": 2,
     "metadata": {},
     "output_type": "execute_result"
    }
   ],
   "source": [
    "from os import listdir\n",
    "from os.path import isfile, join\n",
    "\n",
    "contents = []\n",
    "PATH = \"../data\"\n",
    "files = [f\"{PATH}/{f}\" for f in listdir(PATH) if isfile(join(PATH, f))]\n",
    "\n",
    "for file_path in files: \n",
    "    with open(file_path, \"r\") as f:\n",
    "        contents.append(f.read())\n",
    "\n",
    "contents[0][:50]"
   ]
  },
  {
   "cell_type": "code",
   "execution_count": 3,
   "metadata": {},
   "outputs": [],
   "source": [
    "\n",
    "def load_stop_words(path:str=\"../stopwords.txt\"):\n",
    "   words = []\n",
    "   with open(path, \"r\") as f: \n",
    "      words = f.read().split(\"\\n\")\n",
    "   assert len(words) != 0, \"no stop words were found\"\n",
    "   return words"
   ]
  },
  {
   "cell_type": "code",
   "execution_count": 4,
   "metadata": {},
   "outputs": [
    {
     "data": {
      "text/plain": [
       "['react reactjs middot; github img shields io badge mit blue svg github facebook react blob license npm version img shields io npm react svg style flat npmjs package react circleci status circleci gh facebook react svg style shield circleci gh facebook react prs welcome img shields io badge prs welcome brightgreen svg reactjs docs contribute html first pull request react javascript library building user interfaces declarative react makes painless create interactive uis design simple views state application react will efficiently update render just right components data changes declarative views code predictable simpler understand easier debug component based build encapsulated components manage state compose complex uis component logic written javascript templates can easily pass rich data app keep state dom learn once write don assumptions rest technology stack can develop new features react rewriting existing code react can render server using node power mobile apps using react native reactnative dev learn react project reactjs docs started html installation react designed gradual adoption start can little react need online playgrounds reactjs docs started html online playgrounds taste react add react website reactjs docs add react website html script tag minute create new react app reactjs docs create new react app html looking powerful javascript toolchain can react script tag cdn reactjs docs cdn links html react package npm npmjs package react documentation can find react documentation website reactjs check started reactjs docs started html page quick overview documentation divided sections tutorial reactjs tutorial tutorial html concepts reactjs docs hello world html advanced guides reactjs docs jsx depth html api reference reactjs docs react api html support reactjs community support html contributing guide reactjs docs contribute html can improve sending pull requests repository github reactjs reactjs examples examples website reactjs here first started jsx import { createroot } react dom client ; function hellomessage { name } { return div hello {name} div ; } const root createroot document getelementbyid container ; root render hellomessage name taylor ; example will render hello taylor container page ll notice html like syntax; call jsx reactjs docs introducing jsx html jsx required react makes code readable writing feels like writing html using react script tag read section reactjs docs add react website html optional try react jsx integrating jsx; recommended javascript toolchains reactjs docs create new react app html handle automatically contributing purpose repository continue evolving react core making faster easier development react happens open github grateful community contributing bugfixes improvements read learn can take part improving react code conduct code fb codeofconduct facebook adopted code conduct expect project participants adhere read full text code fb codeofconduct can understand actions will will tolerated contributing guide reactjs docs contribute html read contributing guide reactjs docs contribute html learn development process propose bugfixes improvements build test changes react first issues help feet wet familiar contribution process list first issues github facebook react labels first issue contain bugs limited scope great place started license react mit licensed license',\n",
       " 'pytorch logo github pytorch pytorch blob docs source static img pytorch logo dark png pytorch python package high level features tensor computation like numpy strong gpu acceleration deep neural networks built tape based autograd system can reuse favorite python packages numpy scipy cython extend pytorch needed trunk health continuous integration signals can found hud pytorch hud pytorch ci pytorch pytorch toc pytorch pytorch gpu ready tensor library gpu ready tensor library dynamic neural networks tape based autograd dynamic neural networks tape based autograd python first python first imperative experiences imperative experiences fast lean fast lean extensions pain extensions pain installation installation binaries binaries nvidia jetson platforms nvidia jetson platforms source source prerequisites prerequisites install dependencies install dependencies pytorch source pytorch source install pytorch install pytorch adjust build options optional adjust build options optional docker image docker image using pre built images using pre built images building image building image building documentation building documentation previous versions previous versions started started resources resources communication communication releases contributing releases contributing team team license tocstop pytorch granular level pytorch library consists following components component description torch pytorch docs stable torch html tensor library like numpy strong gpu support torch autograd pytorch docs stable autograd html tape based automatic differentiation library supports differentiable tensor operations torch torch jit pytorch docs stable jit html compilation stack torchscript create serializable optimizable models pytorch code torch nn pytorch docs stable nn html neural networks library deeply integrated autograd designed maximum flexibility torch multiprocessing pytorch docs stable multiprocessing html python multiprocessing magical memory sharing torch tensors across processes useful data loading hogwild training torch utils pytorch docs stable data html dataloader utility functions convenience pytorch replacement numpy power gpus deep learning research platform maximum flexibility speed elaborating gpu ready tensor library numpy tensors ndarray tensor illustration docs source static img tensor illustration png pytorch tensors can live cpu gpu accelerates computation huge amount wide variety tensor routines accelerate fit scientific computation needs slicing indexing mathematical operations linear algebra reductions fast dynamic neural networks tape based autograd pytorch unique way building neural networks using replaying tape recorder frameworks tensorflow theano caffe cntk static view world build neural network reuse structure changing way network behaves means start scratch pytorch technique called reverse mode auto differentiation allows change way network behaves arbitrarily zero lag overhead inspiration comes research papers topic well current past work torch autograd github twitter torch autograd autograd github hips autograd chainer chainer technique unique pytorch fastest implementations date best speed flexibility crazy research dynamic graph github pytorch pytorch blob docs source static img dynamic graph gif python first pytorch python binding monolithic c++ framework built deeply integrated python can naturally like numpy numpy scipy scipy scikit learn scikit learn can write new neural network layers python using favorite libraries packages cython cython numba http numba pydata goal reinvent wheel imperative experiences pytorch designed intuitive linear thought easy execute line code executed isn asynchronous view world drop debugger receive error messages stack traces understanding straightforward stack trace points exactly code defined hope spend hours debugging code bad stack traces asynchronous opaque execution engines fast lean pytorch minimal framework overhead integrate acceleration libraries intel mkl software intel mkl nvidia cudnn developer nvidia cudnn nccl developer nvidia nccl maximize speed core cpu gpu tensor neural network backends mature tested years pytorch fast run small large neural networks memory usage pytorch extremely efficient compared torch alternatives ve written custom memory allocators gpu sure deep learning models maximally memory efficient enables train bigger deep learning models extensions pain writing new neural network modules interfacing pytorch tensor api designed straightforward minimal abstractions can write new neural network layers python using torch api favorite numpy based libraries scipy pytorch tutorials advanced numpy extensions tutorial html want write layers c++ convenient extension api efficient minimal boilerplate wrapper code needs written can see tutorial here pytorch tutorials advanced cpp extension html example here github pytorch extension cpp installation binaries commands install binaries conda pip wheels website pytorch started locally pytorch started locally nvidia jetson platforms python wheels nvidia jetson nano jetson tx tx jetson xavier nx agx jetson agx orin here forums developer nvidia pytorch jetson version now container published here catalog ngc nvidia orgs nvidia containers pytorch require jetpack dusty nv github dusty nv ptrblck github ptrblck maintaining source prerequisites installing source will need python later linux python + needed c++ compatible compiler clang highly recommend installing anaconda anaconda distribution download section environment will high quality blas library mkl controlled dependency versions regardless linux distro want compile cuda support install following note cuda supported macos nvidia cuda developer nvidia cuda downloads nvidia cudnn developer nvidia cudnn compiler gist github ax compatible cuda note refer cudnn support matrix docs nvidia deeplearning cudnn pdf cudnn support matrix pdf cudnn versions supported cuda cuda driver nvidia hardware want disable cuda support export environment variable cuda potentially useful environment variables may found setup py building nvidia jetson platforms jetson nano tx tx agx xavier instructions install pytorch jetson nano here devtalk nvidia default topic jetson nano pytorch jetson nano want compile rocm support install amd rocm rocmdocs amd en latest installation guide installation guide html installation rocm currently supported only linux systems want disable rocm support export environment variable rocm potentially useful environment variables may found setup py install dependencies common bash conda install cmake ninja run command pytorch directory cloning source code using pytorch section pip install requirements txt linux bash conda install mkl mkl include cuda only add lapack support gpu needed conda install pytorch magma cuda magma cuda matches cuda version anaconda pytorch repo optional using torch compile inductor triton install matching version triton run pytorch directory cloning triton macos bash add package intel processor machines only conda install mkl mkl include add packages torch distributed needed conda install pkg config libuv windows bash conda install mkl mkl include add packages torch distributed needed distributed package support windows prototype feature subject changes conda install conda forge libuv pytorch source bash git clone recursive github pytorch pytorch cd pytorch updating existing checkout git submodule sync git submodule update init recursive install pytorch linux compiling amd rocm first run command bash only run compiling rocm python tools amd build build amd py install pytorch bash export cmake prefix path ${conda prefix $ dirname $ conda } python setup py develop using anaconda anaconda distribution download section may experience error caused linker plaintext build temp linux torch csrc stub file recognized file format recognized collect error ld returned exit status error command g++ failed exit status caused ld conda environment shadowing system ld newer version python fixes issue recommended python version + macos bash python setup py develop windows choose correct visual studio version pytorch ci uses visual c++ buildtools come visual studio enterprise professional community editions can install build tools visualstudio microsoft visual cpp build tools build tools come visual studio code default want build legacy python code refer building legacy code cuda github pytorch pytorch blob contributing md building legacy code cuda cpu only builds mode pytorch computations will run cpu gpu cmd conda activate python setup py develop note openmp desired openmp implementation intel openmp iomp order link iomp ll need manually download library set building environment tweaking cmake include path lib instruction here github pytorch pytorch blob docs source notes windows rst building source example setting mkl intel openmp configurations cmake microsoft visual openmp runtime vcomp will cuda based build mode pytorch computations will leverage gpu cuda faster number crunching nvtx docs nvidia gameworks content gameworkslibrary nvtx nvidia tools extension library nvtx htm needed build pytorch cuda nvtx part cuda distributive called nsight compute install installed cuda run cuda installation once check corresponding checkbox sure cuda nsight compute installed visual studio currently ninja supported generator cmake ninja exe detected path ninja will default generator will br ninja selected generator latest msvc will selected underlying toolchain additional libraries magma developer nvidia magma onednn mkldnn dnnl github oneapi src onednn sccache github mozilla sccache needed refer installation helper github pytorch pytorch tree ci pytorch win test helpers installation helpers install can refer build pytorch bat github pytorch pytorch blob ci pytorch win test helpers build pytorch bat script environment variables configurations cmd cmd set environment variables downloaded unzipped mkl package cmake throw error find openmp set cmake include path {your directory} mkl include set lib {your directory} mkl lib; lib read content previous section carefully proceed optional want override underlying toolset ninja visual studio cuda run following script block visual studio developer command prompt will run automatically sure cmake visual studio generator set cmake generator toolset version set distutils sdk usebackq tokens programfiles microsoft visual studio installer vswhere exe version ^ ^ products latest property installationpath call vc auxiliary build vcvarsall bat vcvars ver cmake generator toolset version optional want override cuda host compiler set cudahostcxx program files microsoft visual studio community vc tools msvc bin hostx cl exe python setup py develop adjust build options optional can adjust configuration cmake variables optionally building first following example adjusting pre detected directories cudnn blas can step linux bash export cmake prefix path ${conda prefix $ dirname $ conda } python setup py build cmake only ccmake build cmake gui build macos bash export cmake prefix path ${conda prefix $ dirname $ conda } macosx deployment target cc clang cxx clang++ python setup py build cmake only ccmake build cmake gui build docker image using pre built images can pull pre built docker image docker hub run docker + bash docker run gpus rm ti ipc host pytorch pytorch latest note pytorch uses shared memory share data processes torch multiprocessing multithreaded data loaders default shared memory segment size container runs increase shared memory size ipc host shm size command line options nvidia docker run building image note built docker version dockerfile supplied build images cuda support cudnn can pass python version variable specify python version miniconda leave unset default bash docker makefile images tagged docker io ${your docker username} pytorch building documentation build documentation formats will need sphinx http sphinx doc readthedocs theme bash cd docs pip install requirements txt can build documentation running format docs folder run list output formats katex error run npm install katex persists try npm install katex note installed nodejs package manager conda npm will install version katex compatible version nodejs doc builds will fail combination versions known work node katex install npm can run npm install katex previous versions installation instructions binaries previous pytorch versions may found website pytorch previous versions started pointers started tutorials started understanding using pytorch pytorch tutorials examples easy understand pytorch code across domains github pytorch examples api reference pytorch docs glossary github pytorch pytorch blob glossary md resources pytorch pytorch pytorch tutorials pytorch tutorials pytorch examples github pytorch examples pytorch models pytorch hub intro deep learning pytorch udacity udacity course deep learning pytorch ud intro machine learning pytorch udacity udacity course intro machine learning nanodegree nd deep neural networks pytorch coursera coursera learn deep neural networks pytorch pytorch twitter twitter pytorch pytorch blog pytorch blog pytorch youtube youtube channel ucwxi yeosh qvj pmaxfw communication forums discuss implementations research discuss pytorch github issues bug reports feature requests install issues rfcs thoughts slack pytorch slack pytorch slack hosts primary audience moderate experienced pytorch users developers general chat online discussions collaboration beginner looking help primary medium pytorch forums discuss pytorch need slack invite fill form goo gl forms pp agvnhpsajp newsletter noise way email newsletter important announcements pytorch can sign here eepurl cbg rv facebook page important announcements pytorch facebook pytorch brand guidelines visit website pytorch pytorch releases contributing pytorch day release cycle major releases let know encounter bug filing issue github pytorch pytorch issues appreciate contributions planning contribute back bug fixes discussion plan contribute new features utility functions extensions core first open issue discuss feature sending pr discussion end resulting rejected pr taking core direction aware learn making contribution pytorch see contribution page contributing md team pytorch community driven project skillful engineers researchers contributing pytorch currently maintained soumith chintala http soumith ch gregory chanan github gchanan dmytro dzhulgakov github dzhulgakov edward yang github ezyang nikita shulga github malfet major contributions coming hundreds talented individuals forms means non exhaustive growing list needs mention trevor killeen sasank chilamkurthy sergey zagoruyko adam lerer francisco massa alykhan tejani luca antiga alban desmaison andreas koepf james bradbury zeming lin yuandong tian guillaume lample marat dukhan natalia gimelshein christian sarofeen martin raison edward yang zachary devito note project unrelated hughperkins pytorch github hughperkins pytorch name hugh valuable contributor torch community helped torch pytorch license pytorch bsd style found license license file',\n",
       " 'rust programming language rust community img shields io badge rust community join brightgreen style plastic logo rust rust lang community source code repository rust contains compiler standard library documentation rust rust lang note readme users contributors wish contribute compiler read contributing md contributing md quick start read installation book installation doc rust lang book ch installation html book doc rust lang book index html installing source rust build system uses python script called py build compiler manages bootstrapping process lives root project uses file named config toml determine configuration settings build can see full list options config example toml py command can run directly unix systems following format sh py subcommand flags documentation examples assume running py alternative ways sh unix shell don python command subcommand flags windows command prompt py files configured run python py subcommand flags can run python python py subcommand flags py can found running help flag reading rustc dev guide rustcguidebuild gettingstarted rustc dev guide rust lang started html rustcguidebuild rustc dev guide rust lang building build run html dependencies sure installed dependencies python git compiler building host cc enough; cross compiling may need additional compilers curl needed windows pkg config compiling linux targeting linux libiconv included glibc debian based distros build cargo ll need openssl libssl dev openssl devel unix distros building llvm source ll need additional tools g++ clang++ msvc versions listed llvm documentation llvm docs gettingstarted html host toolchain compiler standard library ninja gnu later ninja recommended especially windows cmake later libstdc++ static may required linux distributions fedora ubuntu tier tier host tools platforms can choose download llvm setting llvm download ci llvm true ll need llvm installed llvm config path see rustc dev guide sysllvm sysllvm rustc dev guide rust lang building new target html using pre built llvm building unix like system build steps clone source git sh git clone github rust lang rust git cd rust source github rust lang rust configure build settings sh configure plan py install create installation recommended set prefix value install section directory configure set install prefix path build install sh py build py install complete py install will place programs $prefix bin rustc rust compiler rustdoc api documentation tool default will include cargo rust package manager can disable behavior passing set build extended false configure cargo github rust lang cargo configure project configure script makefile just invokes py configure recommended way programatically generate config toml recommended suggest using py directly supported try break unnecessarily sh configure sudo install configure generates config toml can normal py invocations building windows windows suggest using winget install dependencies running following terminal powershell winget install python python winget install kitware cmake winget install git git edit system path variable add program files cmake bin see guide editing system path java en download help path html java documentation winget github microsoft winget cli prominent abis windows native msvc abi visual studio gnu abi gcc toolchain version rust need depends largely c++ libraries want interoperate msvc build rust interop software produced visual studio gnu build interop gnu software built using mingw msys toolchain mingw msys msys can easily build rust windows msys msys download latest msys installer msys installer run mingw shell bat mingw shell bat msys installation directory msys depending want bit bit rust latest version msys run msys shell cmd mingw msys shell cmd mingw command line terminal install required tools sh update package mirrors may needed fresh install msys pacman sy pacman mirrors install build tools needed rust building bit compiler replace ve git python cmake installed path can remove list note important python cmake ninja packages msys subsystem build historically known fail packages pacman git diffutils tar mingw python mingw cmake mingw gcc mingw ninja navigate rust source code clone build sh python py setup user python py build python py install msvc msvc builds rust additionally require installation visual studio later rustc can linker simplest way visual studio check c++ build tools windows sdk workload visual studio visualstudio microsoft downloads installing cmake careful c++ cmake tools windows doesn included individual components dependencies installed can build compiler cmd exe shell sh python py setup user python py build right now building rust only works known versions visual studio recent version installed build system doesn understand may need force rustbuild older version can manually calling vcvars file running bootstrap batch call program files microsoft visual studio community vc auxiliary build vcvars bat python py build specifying abi specific abi can environment example using gnu abi powershell using explicit build triple windows build triples gnu abi using gcc pc windows gnu pc windows gnu msvc abi pc windows msvc pc windows msvc build triple can specified specifying build triple invoking py commands creating config toml file building unix like system building unix like system passing set build build triple configure building documentation like build documentation sh py doc generated documentation will doc build directory abi abi pc windows msvc directory will build pc windows msvc doc notes rust compiler written rust built precompiled snapshot version made earlier stage development source builds require internet connection fetch snapshots os can execute snapshot binaries see doc rust lang nightly rustc platform support html list supported platforms only host tools platforms pre compiled snapshot binary available; compile platform host tools cross compile may find platforms work officially supported build environments likely work help see rust lang community list chat platforms forums contributing see contributing md contributing md license rust primarily distributed terms mit apache license version portions covered bsd like licenses see license apache license apache license mit license mit copyright copyright details trademark rust foundation rust foundation protects rust cargo trademarks logos rust trademarks want names brands read media guide media guide third party logos may subject third party copyrights trademarks see licenses policies licenses details rust foundation foundation rust lang media guide foundation rust lang policies logo policy media guide policies licenses rust lang policies licenses',\n",
       " 'cira cira algorithmic trading made easy façade library refactoring guru design patterns facade simpler interaction alpaca trade api alpaca markets cira pip pypi project cira give star like cira external content duckduckgo iu fi pinimg fb fb cfea fcfeceeb fa ced llama drawing drawing art jpg nofb github stars img shields io github stars axelgard cira style social github forks img shields io github forks axelgard cira style social tweet img shields io twitter url http shields io svg style social twitter axel gard github img shields io github axelgard cira style plastic pypi img shields io pypi cira pypi python version img shields io pypi pyversions cira pypi downloads img shields io pypi dm cira name cira miss spelling word baby alpaca cria en wikipedia wiki cria simple small lib thought perfect fit axel gard github axelgard developer cira started can started fast using cira group boilerplate github cira group cira boilerplate new cira checkout tutorial github axelgard cira wiki tutorial installation can install using pip pypi project cira bash pip install cira usage alpaca trade api need api key need generate key alpaca markets website app alpaca markets signup want play can try paper trading recommended beginners recommend keep json file cira needs path can set variables directly environment variable see wiki github axelgard cira wiki storing alpaca api key diffrent ways recommended store file just sure upload file public repositories br key json json { apca api key id pub key apca api secret key private key } can start using lib python import cira cira alpaca key file mypath key json stock cira stock tsla stock buy stock sell new classes cira python portfolio cira portfolio methods portfolio exchange cira exchange methods exchange stock cira stock tsla class stock simple algorithm just couple lines running super simple algorithm python import cira import random import time cira alpaca key file mypath key json portfolio cira portfolio exchange cira exchange qty choose stocks handled session true exchange open stock random choices exchange stocks qty stock buy stock random choices portfolio stocks qty stock sell time sleep min timer can find examples wiki examples github axelgard cira wiki examples wiki tutorial github axelgard cira wiki tutorial checkout news github axelgard cira discussions categories news wiki github axelgard cira wiki tutorial github axelgard cira wiki tutorial storing alpaca api key github axelgard cira wiki storing alpaca api key examples cira github axelgard cira wiki examples discussions github axelgard cira discussions cira group github cira group wiki github axelgard cira wiki docs see can check wiki github axelgard cira wiki example build index fund trader cira github axelgard cira wiki examples simple index fund want old version backwards compatibility made sure fork cira cira classic github axelgard cira classic cira classic pypi pip pypi project cira classic find bug plz let know issue know solve problem can course pull request will take look question question cira want share built cira want talk using cira can checkout discussions page github axelgard cira discussions issue fitting history cira interested using alpaca trade api building quantitative paper trader project here github axelgard paper trader br working alomst year realized alomst build small library using alpaca api thought real library can started quantitative paper trading well development want help develop cira welcome feel free pull request issue install cira dev req bash git clone git github axelgard cira git cd cira git checkout develop know need bash python venv env source env bin activate pip install run tests using pytest ensure cira dir will need new key key only testing don mind assets portfolio being sold bash touch tests test key json pytest coding style trying follow pep pep standard notation try library intuitive possible easy license project licensed mit license see license license txt file details acknowledgments alpaca api alpaca markets paper trader github axelgard paper trader cira classic github axelgard cira classic']"
      ]
     },
     "execution_count": 4,
     "metadata": {},
     "output_type": "execute_result"
    }
   ],
   "source": [
    "\n",
    "\n",
    "\n",
    "def clean(content:list):\n",
    "    ascii_char = [chr(i) for i in range(0,255)]\n",
    "    numbers = \"0123456789\"\n",
    "    non_acc_char =  \"\\n,.()[]`/:-_*=\\\\<>|&%@?!\\\"\\'#\" + numbers\n",
    "    non_acc_tokens = [\"https\",\"www\", \"com\", \"org\", \"license\"]\n",
    "    stop_words = load_stop_words()\n",
    "    for i, _ in enumerate(content):\n",
    "        for c in non_acc_char:\n",
    "            content[i] = content[i].replace(c, \" \")\n",
    "        content[i] = content[i].split(\" \")\n",
    "        content[i] = list(filter(lambda c: c != \"\", content[i]))\n",
    "        content[i] = [t for t in content[i] if not t in non_acc_tokens ] \n",
    "        content[i] = [s.lower() for s in content[i] if all(c in ascii_char for c in s)]\n",
    "        content[i] = [t for t in content[i] if not t in stop_words] \n",
    "    return [\" \".join(con) for con in content]\n",
    "\n",
    "\n",
    "contents = clean(contents)\n",
    "contents"
   ]
  },
  {
   "cell_type": "code",
   "execution_count": 5,
   "metadata": {},
   "outputs": [],
   "source": [
    "def TfIdf(content:list):\n",
    "    vectorizer = TfidfVectorizer()\n",
    "    vecs = vectorizer.fit_transform(content)\n",
    "    feature_names = vectorizer.get_feature_names_out()\n",
    "    dense = vecs.todense()\n",
    "    dense_list = dense.tolist()\n",
    "    df = pd.DataFrame(dense_list, columns=feature_names)\n",
    "    return df\n",
    "\n",
    "tf_idf_data = TfIdf(contents)\n"
   ]
  },
  {
   "cell_type": "code",
   "execution_count": 6,
   "metadata": {},
   "outputs": [],
   "source": [
    "def query_data(tf_idf_data:dict, query:str, result_size:int=2)->list:\n",
    "    query = clean([query])[0]\n",
    "    result = []\n",
    "    words_tf_idf = {}\n",
    "    query = query.lower()\n",
    "    query_words = query.split(\" \")\n",
    "    for word in query_words: \n",
    "        if word in tf_idf_data.keys():\n",
    "            words_tf_idf[word] = tf_idf_data[word]\n",
    "    highest = 0\n",
    "    for word, tf_idf in words_tf_idf.items():\n",
    "        for idx, val in tf_idf.items(): \n",
    "            if val > highest: \n",
    "                result = idx\n",
    "    return [result]\n",
    "\n"
   ]
  },
  {
   "cell_type": "code",
   "execution_count": 7,
   "metadata": {},
   "outputs": [
    {
     "name": "stdout",
     "output_type": "stream",
     "text": [
      "../data/react_README.md\n"
     ]
    }
   ],
   "source": [
    "data = tf_idf_data.to_dict()\n",
    "query = \"I want to build web apps \"\n",
    "idxs = query_data(data, query)\n",
    "for idx in idxs:\n",
    "    print(files[idx])"
   ]
  },
  {
   "cell_type": "code",
   "execution_count": null,
   "metadata": {},
   "outputs": [],
   "source": []
  }
 ],
 "metadata": {
  "kernelspec": {
   "display_name": "Python 3",
   "language": "python",
   "name": "python3"
  },
  "language_info": {
   "codemirror_mode": {
    "name": "ipython",
    "version": 3
   },
   "file_extension": ".py",
   "mimetype": "text/x-python",
   "name": "python",
   "nbconvert_exporter": "python",
   "pygments_lexer": "ipython3",
   "version": "3.8.10"
  }
 },
 "nbformat": 4,
 "nbformat_minor": 2
}
